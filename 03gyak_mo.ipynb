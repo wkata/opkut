{
 "cells": [
  {
   "cell_type": "markdown",
   "id": "b99a87a1",
   "metadata": {},
   "source": [
    "# 3. gyakorlat\n",
    "\n",
    "## Dualitás, érzékenységvizsgálat"
   ]
  },
  {
   "cell_type": "markdown",
   "id": "8b03ad65",
   "metadata": {},
   "source": [
    "## Célok:\n",
    "* Duális LP 'levezetése' és megoldás leolvasása a primál LP megoldásából\n",
    "* Árnyékárak értelmezése\n",
    "* Célfüggvényegyütthatók optimalitási tartományának meghatározása\n",
    "* Mátrixjátékok és dualitás kapcsolata"
   ]
  },
  {
   "cell_type": "markdown",
   "id": "a8ededd2",
   "metadata": {},
   "source": [
    "*1. feladat*\n",
    "\n",
    "Egy varrónő ingeket és nyakkendőket készít 2 fajta textílből (A és B minőségű), valamint maradékanyagból. Az A minőségű anyagból 24, a B-ből 42 méternyi áll rendelkezésére. Maradékanyagból 4 méternyi készlete van. Egy ing elkészítéséhez 1 méternyi A minőségű és 4 méternyi B minőségű anyagra van szüksége, keletkezik viszont 1 méternyi maradékanyaga. Egy tucat nyakkendő elkészítéséhez 3 méternyi A minőségű és 3 méternyi B minőségű anyagra van szüksége, valamint 1 méternyi maradékanyagra. Egy inget 20000 Forintért, egy tucat nyakkendőt pedig 30000 Forintért tud értékesíteni.\n",
    "<br>a) Írjunk fel egy lineáris programozási feladatot a varrónő bevételének maximalizására, és oldjuk meg pulp segítségével!"
   ]
  },
  {
   "cell_type": "markdown",
   "id": "6e951bf8",
   "metadata": {},
   "source": [
    "*Megoldás:*\n",
    "<br> $x_1$ - a legyártott ingek száma\n",
    "<br> $x_2$ - a legyártott tucat nyakkendők száma\n",
    "$$\\color{blue}{\n",
    "\\begin{array}{rccc}\n",
    "\\max & \\phantom{-}20x_1 + 30x_2 & & \\\\\n",
    "\\text{f.h.} & \\phantom{-20}x_1 + \\phantom{0}3x_2 & \\leq & 24 \\\\\n",
    "& \\phantom{-0}4x_1 + \\phantom{0}3x_2 & \\leq & 42 \\\\\n",
    "& \\phantom{2}-x_1 + \\phantom{3}x_2 & \\leq & 4 \\\\\n",
    "& \\phantom{-20}x_1, \\phantom{30}x_2 & \\geq & 0\n",
    "\\end{array}\n",
    "}$$"
   ]
  },
  {
   "cell_type": "code",
   "execution_count": null,
   "id": "f0669358",
   "metadata": {},
   "outputs": [],
   "source": [
    "#pip install pulp # ha még egyszer sem volt telepítve\n",
    "\n",
    "from pulp import *\n",
    "\n",
    "varrono = LpProblem('Varrónő', LpMaximize)\n",
    "\n",
    "x1 = LpVariable('ing', lowBound=0 , cat = 'Continuous')\n",
    "x2 = LpVariable('nyakkendo', lowBound=0 , cat = 'Continuous')\n",
    "\n",
    "varrono += 20*x1 + 30*x2\n",
    "\n",
    "varrono += x1 + 3*x2 <= 24, \"A anyag\"\n",
    "varrono += 4*x1 + 3*x2 <= 42, \"B anyag\"\n",
    "varrono += - x1 + x2 <= 4, \"maradék anyag\"\n",
    "\n",
    "print(varrono)\n",
    "\n",
    "megoldas = varrono.solve()\n",
    "\n",
    "if LpStatus[megoldas] == 'Optimal':\n",
    "    print('Optimális megoldást találtunk.')\n",
    "    print('Célfüggvény érték: z* = ', value(varrono.objective))\n",
    "    print('Megoldás: ing* = ', value(x1), ', nyakkendo* = ', value(x2))\n",
    "elif megoldas == -1:\n",
    "    print('Az LP-nek nincs megengedett megoldása.')\n",
    "elif LpStatus[megoldas] == 'Unbounded':\n",
    "    print('A célfüggvény nem korlátos.')\n",
    "else:\n",
    "    print('Az LP megoldása valamely problémába ütközött.')"
   ]
  },
  {
   "cell_type": "markdown",
   "id": "74cdd8b4",
   "metadata": {},
   "source": [
    "b) Adjunk meg egy **felső korlátot** a célfüggvény értékére az *első korlát alapján*!"
   ]
  },
  {
   "cell_type": "markdown",
   "id": "66f8dc70",
   "metadata": {},
   "source": [
    "*Megoldás:*\n",
    "<br>Az $x_1$ együtthatója a célfüggvényben 20, míg a korlátban 1; ugyanez az $x_2$ esetében 30 és 3. Szorozzuk meg a korlátot 20-szal annak érdekében, hogy szét tudjuk bontani az első korlátot magára a célfüggvényre + egy nem-negatív értékre:\n",
    "\n",
    "$$\n",
    "20x_1 + 60x_2 = \\color{blue}{20x_1 + 30x_2} + 30x_2 \\leq 480\n",
    "$$\n",
    "\n",
    "Az optimális megoldásban felvett célfüggvény érték az első korlát miatt nem lehet nagyobb, mint 480."
   ]
  },
  {
   "cell_type": "markdown",
   "id": "4751db91",
   "metadata": {},
   "source": [
    "c) Adjunk meg jobb felső korlátot a második és harmadik korlát használatával!"
   ]
  },
  {
   "cell_type": "markdown",
   "id": "3a10fac0",
   "metadata": {},
   "source": [
    "*Megoldás:*\n",
    "<br>Szorozzuk meg a második korlátot valamilyen $y_2$, míg a harmadikat valamilyen $y_3$ nem-negatív értékkel, majd összegezzük az így kapott korlátokat. Az eredmény:\n",
    "\n",
    "$$\n",
    "(4y_2 - y_3)x_1 + (3y_2 + y_3)x_2 \\leq 42y_2 + 4y_3\n",
    "$$\n",
    "\n",
    "*Megjegyzés: bajban lennénk, ha ez korlátként megjelenne az $x$ és $y$ változókban, hiszen nemlineáris!*\n",
    "<br>Ezúttal azonban csak egy felső korlát értékének megtalálásához használjuk.\n",
    "\n",
    "Ahhoz, hogy szétbonthassuk a korábbi módon, $x_1$ együtthatójának (ami $4y_2 - y_3$) legalább 20-nak ($x_1$ célfgv. együtthatója), $x_2$-nél pedig a $3y_2 + y_3$ együtthatónak kell legalább 30-nak lennie. Mindezt úgy, hogy $y_2, y_3 \\geq 0$ kell az összegzéshez.\n",
    "\n",
    "Például $y_2 = 8, y_3 = 6$ esetén\n",
    "\n",
    "$$26x_1 + 30x_2 = \\color{blue}{20x_1 + 30x_2} + 6x_1 \\leq 360$$"
   ]
  },
  {
   "cell_type": "markdown",
   "id": "29c65973",
   "metadata": {},
   "source": [
    "d) Írjuk fel a legjobb korlátot meghatározó duális LP-t! Adjuk meg egy megoldását!"
   ]
  },
  {
   "cell_type": "markdown",
   "id": "f74bdd00",
   "metadata": {},
   "source": [
    "*Megoldás:*\n",
    "<br>Innen adódik a **duális** feladat, mely egy LP segítségével megtalálja a legjobb korlátot biztosító $y$ változókat.\n",
    "\n",
    "$$\\color{blue}{\n",
    "\\begin{array}{rcccc}\n",
    "\\max & \\phantom{-}20x_1 + 30x_2 & & & \\hspace{10mm} \\color{red}{\\text{(duál változók)}}\\\\\n",
    "\\text{f.h.} & \\phantom{-20}x_1 + \\phantom{0}3x_2 & \\leq & 24 & \\hspace{10mm} \\color{red}{(y_1)}\\\\\n",
    "& \\phantom{-0}4x_1 + \\phantom{0}3x_2 & \\leq & 42 & \\hspace{10mm} \\color{red}{(y_2)}\\\\\n",
    "& \\phantom{2}-x_1 + \\phantom{3}x_2 & \\leq & 4 & \\hspace{10mm} \\color{red}{(y_3)}\\\\\n",
    "& \\phantom{-20}x_1, \\phantom{30}x_2 & \\geq & 0\n",
    "\\end{array}\n",
    "}$$\n",
    "\n",
    "$$\\color{red}{\n",
    "\\begin{array}{rcccc}\n",
    "\\min & 24y_1 + 42y_2 + 4y_3 & & & \\hspace{10mm} \\color{blue}{\\text{(primál változók)}}\\\\\n",
    "\\text{f.h.} & \\phantom{24}y_1 + \\phantom{2}4y_2 - \\phantom{4}y_3 & \\geq & 20 & \\hspace{10mm} \\color{blue}{(x_1)}\\\\\n",
    "& \\phantom{2}3y_1 + \\phantom{4}3y_2 + \\phantom{4}y_3 & \\geq & 30 & \\hspace{10mm} \\color{blue}{(x_2)}\\\\\n",
    "& \\phantom{24}y_1, \\phantom{42}y_2, \\phantom{4}y_3 & \\geq & 0\n",
    "\\end{array}\n",
    "}$$\n",
    "\n",
    "* Primál vátozók száma = duál korlátok száma és fordítva\n",
    "* primál célfüggvény együtthatók = duál jobb oldali konstansok és fordítva\n",
    "* a primál együtthatómátrix a duál együtthatómátrix transzponáltja\n",
    "\n",
    "A duál feladat értelmezése: Tegyük fel, hogy egy vállalkozó fel szeretné vásárolni a varrónő alapanyag készletét. Az anyagok árát jelöljék a következő változók\n",
    "* $y_1$ - az A textil méterének ára\n",
    "* $y_2$ - a B textil méterének ára\n",
    "* $y_3$ - a maradékanyag méterének ára\n",
    "\n",
    "Ekkor a vállalkozó a következő célfüggvényt minimalizálja: $24y_1 + 42y_2 + 4y_3$\n",
    "* A vállalkozónak az A és B anyag 3-3 méteréért, valamint 1 méternyi maradékanyagért mindenképp többet kell adnia mint 30 ezer Ft\n",
    "* Ha ennél kevesebbet adna, akkor a varrónő inkább nyakkendőt készítene az anyagból és azt adná el\n",
    "* Hasonlóan 1 méternyi A textilért és 4 méternyi B textilért többet kell adnia mint 20 ezer Ft plusz 1 méternyi maradékanyag ára"
   ]
  },
  {
   "cell_type": "markdown",
   "id": "c804bee4",
   "metadata": {},
   "source": [
    "A duál feladat $y^*$ optimális megoldásai a primál korlátokhoz optimális megoldásban tartozó ún. **árnyékárak**. Ezek értékét meg tudjuk határozni a pulp segítségével, amikor megoldjuk az eredeti feladatot (nincs szükség újabb LP megoldásra).\n",
    "\n",
    "A definiált LpProblem változónk *constraints* függvénye listázza (egy ún. dictionaryben tárolva) a korlátozó feltételeket, a *constraints.items()* függvény segítségével pedig tudunk iterálni is a listaelemeken."
   ]
  },
  {
   "cell_type": "code",
   "execution_count": null,
   "id": "59d9caa7",
   "metadata": {},
   "outputs": [],
   "source": [
    "for name, c in varrono.constraints.items():\n",
    "    print('y_' + name + ' =', c.pi)"
   ]
  },
  {
   "cell_type": "markdown",
   "id": "35fc41f4",
   "metadata": {},
   "source": [
    "e) Értelmezzük az egyes árnyékárakat! A rendelkezésünkre álló erőforrások közül melyik mennyire értékes? Határozzuk meg melyek az aktív és inaktív feltételek!"
   ]
  },
  {
   "cell_type": "markdown",
   "id": "8924e895",
   "metadata": {},
   "source": [
    "*Megoldás:*\n",
    "<br>Egy méternyi plusz A anyag a varrónő számára $y_1 = 6.6666667$ többletbevételt eredményezne.\n",
    "<br>Ugyanez a B anyag esetében $y_2 = 3.3333333$.\n",
    "<br>A maradékanyagból újabb méter nem okoz bevételnövekedést a varrónő számára.\n",
    "<br> Az első két feltétel aktív, a harmadik feltétel inaktív.\n",
    "<br> *Megjegyzés: inaktív feltétel árnyékára mindenképpen 0*"
   ]
  },
  {
   "cell_type": "markdown",
   "id": "cf89b9c7",
   "metadata": {},
   "source": [
    "f) Az inaktív feltételek esetén: a jobb oldali konstans milyen intervallumban változhat ahhoz, hogy az optimális megoldás ne változzon? Hogyan változik eközben az optimális célfüggvény érték?"
   ]
  },
  {
   "cell_type": "markdown",
   "id": "e4f394a3",
   "metadata": {},
   "source": [
    "*Megoldás:*\n",
    "<br>$\\leq$ korlát lévén a jobb oldali konstans bármeddig növekedhet, az optimális megoldás nem változik (hiszen a lehetséges megoldások halmaza és a célfüggvény sem változik). A lehetséges csökkenés mértéke a harmadik feltétel $s_3$ *eltérésváltozójának* értéke az optimális megoldásban: $-x_1 + x_2 + s_3 = 4$, ahol $s_3 \\geq 0$.\n",
    "<br> Optimális megoldásban $x_1 = 6, x_2=6$, azaz $s_3 = 4$.\n",
    "<br> Összességében tehát a jobb oldali konstans legfeljebb 4-gyel csökkenhet, és tetszőlegesen nőhet ahhoz, hogy az optimális megoldás optimális maradjon. Az optimális célfüggvény érték ekkor nem változik.\n",
    "\n",
    "*Megjegyzés: ezáltal (korlátozottan) változó jobb oldali konstans esetén az LP újboli megoldása nélkül is meg tudjuk határozni az új optimális megoldást és hozzá tartozó célfüggvény értéket*\n",
    "\n",
    "A definiált LpProblem object constraints.items() methodja segítségével az eltérésváltozók értékeit is le tudjuk olvasni."
   ]
  },
  {
   "cell_type": "code",
   "execution_count": null,
   "id": "caa2fb1c",
   "metadata": {},
   "outputs": [],
   "source": [
    "for name, c in varrono.constraints.items():\n",
    "    print('s' + name + ' =', c.slack)"
   ]
  },
  {
   "cell_type": "markdown",
   "id": "fe91f571-04c7-489e-a050-54f510bc722b",
   "metadata": {},
   "source": [
    "g) Tegyük fel, hogy a varrónőnek lehetősége van nadrágot is készíteni, melynek darabja 2 méter A, 5 méter B és 1 méter maradékanyagot igényel. Legalább milyen áron kell tudnia értékesíteni a nadrágot, hogy megérje azt is varrni?"
   ]
  },
  {
   "cell_type": "markdown",
   "id": "68c968dd-5b0e-4847-98f4-447817f907c5",
   "metadata": {},
   "source": [
    "*Megoldás:*\n",
    "<br>az árnyékárak alapján a nadrág értékesítési ára legalább $2*6.666667+5*3.333333+1*0=30$, azaz legalább 30 ezer Ft kell legyen."
   ]
  },
  {
   "cell_type": "code",
   "execution_count": null,
   "id": "89e61007-d165-4962-bda9-c62b1262ce9b",
   "metadata": {},
   "outputs": [
    {
     "name": "stdout",
     "output_type": "stream",
     "text": [
      "Varrónő:\n",
      "MAXIMIZE\n",
      "20*ing + 25*nadrag + 30*nyakkendo + 0\n",
      "SUBJECT TO\n",
      "A_anyag: ing + 2 nadrag + 3 nyakkendo <= 24\n",
      "\n",
      "B_anyag: 4 ing + 5 nadrag + 3 nyakkendo <= 42\n",
      "\n",
      "maradék_anyag: - ing + nadrag + nyakkendo <= 4\n",
      "\n",
      "VARIABLES\n",
      "ing Continuous\n",
      "nadrag Continuous\n",
      "nyakkendo Continuous\n",
      "\n",
      "Optimális megoldást találtunk.\n",
      "Célfüggvény érték: z* =  300.0\n",
      "Megoldás: ing* =  6.0 , nyakkendo* =  6.0 , nadrag* =  0.0\n"
     ]
    }
   ],
   "source": [
    "#pip install pulp # ha még egyszer sem volt telepítve\n",
    "\n",
    "from pulp import *\n",
    "\n",
    "varrono = LpProblem('Varrónő', LpMaximize)\n",
    "\n",
    "x1 = LpVariable('ing', lowBound=0 , cat = 'Continuous')\n",
    "x2 = LpVariable('nyakkendo', lowBound=0 , cat = 'Continuous')\n",
    "x3 = LpVariable('nadrag', lowBound=0 , cat = 'Continuous')\n",
    "\n",
    "varrono += 20*x1 + 30*x2 + 25*x3\n",
    "\n",
    "varrono += x1 + 3*x2 + 2*x3 <= 24, \"A anyag\"\n",
    "varrono += 4*x1 + 3*x2 + 5*x3 <= 42, \"B anyag\"\n",
    "varrono += - x1 + x2 + x3 <= 4, \"maradék anyag\"\n",
    "\n",
    "print(varrono)\n",
    "\n",
    "megoldas = varrono.solve()\n",
    "\n",
    "if LpStatus[megoldas] == 'Optimal':\n",
    "    print('Optimális megoldást találtunk.')\n",
    "    print('Célfüggvény érték: z* = ', value(varrono.objective))\n",
    "    print('Megoldás: ing* = ', value(x1), ', nyakkendo* = ', value(x2), ', nadrag* = ', value(x3))\n",
    "elif megoldas == -1:\n",
    "    print('Az LP-nek nincs megengedett megoldása.')\n",
    "elif LpStatus[megoldas] == 'Unbounded':\n",
    "    print('A célfüggvény nem korlátos.')\n",
    "else:\n",
    "    print('Az LP megoldása valamely problémába ütközött.')"
   ]
  },
  {
   "cell_type": "code",
   "execution_count": null,
   "id": "ce369734-baa1-4ddb-b20b-317c39bcfd9e",
   "metadata": {},
   "outputs": [
    {
     "name": "stdout",
     "output_type": "stream",
     "text": [
      "Redukált költségek:\n",
      "ing\n",
      "-0.0\n",
      "nadrag\n",
      "-5.0\n",
      "nyakkendo\n",
      "-0.0\n"
     ]
    }
   ],
   "source": [
    "print('Redukált költségek:')\n",
    "for v in varrono.variables():\n",
    "    print(v.name)\n",
    "    print(v.dj)"
   ]
  },
  {
   "cell_type": "markdown",
   "id": "8e18818d",
   "metadata": {},
   "source": [
    "h) Milyen tartományban változhatnak az egyes célfüggvény-együtthatók értékei ahhoz, hogy az optimális megoldás ne változzon? Hogyan változik eközben az optimális célfüggvény érték?"
   ]
  },
  {
   "cell_type": "markdown",
   "id": "9d6f8362",
   "metadata": {},
   "source": [
    "*Megoldás:*\n",
    "<br>A két korlát, melynek csúcspontjában az optimális megoldás található a $x_1 + 3x_2 \\leq 24$ illetve a $4x_1 + 3x_2 \\leq 42$. Ezek meredekségei rendre -1/3 és -4/3. A $20x_1 + 30x_2$ célfüggvény meredeksége -2/3.\n",
    "\n",
    "Legyen most az ingek értékesítési ára egy $c_1$ ismeretlen paraméter. Egészen addig, amíg a célfüggvény meredeksége -1/3 és -4/3 között marad, addig az eredeti optimális megoldás továbbra is az marad. Tehát egész addig, amíg $c_1$ teljesíti, hogy\n",
    "\n",
    "$$\n",
    "-\\frac{1}{3} \\geq -\\frac{c_1}{3} \\geq -\\frac{4}{3}\n",
    "$$\n",
    "\n",
    "Ez akkor teljesül, ha $1 \\leq c_1 \\leq 4$. Ezen tartományon belül az $x_1=6, x_2=6$ továbbra is optimális megoldás, az optimális célfüggvény értéke pedig $300 + (c_1-20)*6$.\n",
    "\n",
    "Ugyanez a nyakkendők tucatjainak $c_2$ értékesítési ára esetén\n",
    "\n",
    "$$\n",
    "-\\frac{1}{3} \\geq -\\frac{2}{c_2} \\geq -\\frac{4}{3}\n",
    "$$\n",
    "\n",
    "Azaz $1.5 \\leq c_2 \\leq 6$ tartományban a (6; 6) továbbra is optimális megoldás, az optimális célfüggvény érték $300 + (c_2-30)*6$.\n",
    "\n",
    "*Megjegyzés: ezáltal (korlátozottan) változó célfüggvény együtthatók esetén az LP újboli megoldása nélkül is meg tudjuk határozni az új optimális megoldást és hozzá tartozó célfüggvény értéket*"
   ]
  },
  {
   "cell_type": "markdown",
   "id": "d31015bd",
   "metadata": {},
   "source": [
    "### Gyakorló feladat: dualitás, árnyékárak, célfüggvény együtthatók\n",
    "\n",
    "*2. feladat*\n",
    "\n",
    "Térjünk vissza az 1. gyakorlat 1. feladatára, melyben katonákat képeztünk ki és páncélokat gyártottunk, és menjünk végig a fentebbi b)-h) feladatokon.\n",
    "\n",
    "$$\\color{blue}{\n",
    "\\begin{array}{rccc}\n",
    "\\max & \\phantom{3}x_1 + 3x_2 & & \\\\\n",
    "\\text{f.h.} & \\phantom{3}x_1 + 2x_2 & \\leq & 12 \\\\\n",
    "& 3x_1 + 2x_2 & \\leq & 24 \\\\\n",
    "& \\phantom{3}x_1 - \\phantom{2}x_2 & \\geq & 0 \\\\\n",
    "& \\phantom{1}x_1, \\phantom{1}x_2 & \\geq & 0\n",
    "\\end{array}\n",
    "}$$\n",
    "\n",
    "A c) pontban ügyeljünk a korlátok összegzésénél a relációkra!\n",
    "<br> A h) feladatpontot a következő módosítással oldjuk meg: Tegyük fel, hogy lehetőségünk van harckocsit is gyártani, melynek darabja 6 órát és 4 dollárt igényel. Legalább mekkora hadereje kell legyen egy harckocsinak, hogy megérje gyártanunk? A meghatározott érték bármennyi harckocsi legyártására érvényes?"
   ]
  },
  {
   "cell_type": "markdown",
   "id": "907022e3",
   "metadata": {},
   "source": [
    "b) Adjunk meg egy **felső korlátot** a célfüggvény értékére az *első korlát alapján*!\n",
    "\n",
    "*Megoldás:*\n",
    "<br>Az $x_1$ együtthatója a célfüggvényben és a korlátban is 1, viszont az $x_2$-é a célfüggvényben 3, míg a korlátban 2. Szorozzuk meg a korlátot 3/2-vel annak érdekében, hogy szét tudjuk bontani az első korlátot magára a célfüggvényre + egy nem-negatív érték:\n",
    "\n",
    "$$\n",
    "3/2x_1 + 3x_2 = \\color{blue}{x_1 + 3x_2} + 0.5x_1 \\leq 18\n",
    "$$\n",
    "\n",
    "Az optimális megoldásban felvett célfüggvény érték az első korlát miatt nem lehet nagyobb, mint 18."
   ]
  },
  {
   "cell_type": "markdown",
   "id": "e549ec43",
   "metadata": {},
   "source": [
    "c) Adjunk meg jobb felső korlátot a második és harmadik korlát használatával!\n",
    "\n",
    "*Megoldás:*\n",
    "<br>Az ellentétes relációk miatt nem tudjuk a két korlátot csakúgy összegezni: ahhoz, hogy felső korlátot kapjunk (és egyben az összegzéshez), a második korlát $\\leq$ relációja alkalmas, de a második $\\geq$ relációját meg kéne fordítanunk egy negatív számmal való szorzással.\n",
    "\n",
    "Szorozzuk meg a második korlátot valamilyen $y_2$ nem-negatív értékkel, míg a harmadikat valamilyen $-y_3$ nem-pozitív számmal, majd összegezzük az így kapott korlátokat. Az eredmény:\n",
    "\n",
    "$$\n",
    "(3y_2 - y_3)x_1 + (2y_2 + y_3)x_2 \\leq 24y_2\n",
    "$$\n",
    "\n",
    "Ahhoz, hogy szétbonthassuk a korábbi módon, $x_1$ együtthatójának (ami $3y_2 - y_3$) legalább 1-nek ($x_1$ célfgv. együtthatója), $x_2$-nél pedig a $2y_2 + y_3$ együtthatónak kell legalább 3-nak lennie. Mindezt úgy, hogy $y_2, y_3 \\geq 0$ kell az összegzéshez.\n",
    "\n",
    "Például $y_2 = 7/6, y_3 = 2/3$ esetén\n",
    "\n",
    "$$17/6x_1 + 3x_2 = \\color{blue}{x_1 + 3x_2} + 11/6x_1 \\leq 16$$"
   ]
  },
  {
   "cell_type": "markdown",
   "id": "7c431e85",
   "metadata": {},
   "source": [
    "d) Írjuk fel a legjobb korlátot meghatározó duális LP-t! Adjuk meg egy megoldását!\n",
    "\n",
    "*Megoldás:* Innen adódik a **duális** feladat, mely egy LP segítségével megtalálja a legjobb korlátot biztosító $y$ változókat.\n",
    "\n",
    "$$\\color{blue}{\n",
    "\\begin{array}{rcccx}\n",
    "\\max & \\phantom{3}x_1 + 3x_2 & & & \\hspace{10mm} \\color{red}{\\text{(duál változók)}}\\\\\n",
    "\\text{f.h.} & \\phantom{3}x_1 + 2x_2 & \\leq & 12 & \\hspace{10mm} \\color{red}{(y_1)}\\\\\n",
    "& 3x_1 + 2x_2 & \\leq & 24 & \\hspace{10mm} \\color{red}{(y_2)}\\\\\n",
    "& \\phantom{3}x_1 - \\phantom{2}x_2 & \\geq & 0 & \\hspace{10mm} \\color{red}{(-y_3)}\\\\\n",
    "& \\phantom{1}x_1, \\phantom{1}x_2 & \\geq & 0\n",
    "\\end{array}\n",
    "}$$\n",
    "\n",
    "$$\\color{red}{\n",
    "\\begin{array}{rcccx}\n",
    "\\min & 12y_1 + 24y_2 \\phantom{+0y_3} & & & \\hspace{10mm} \\color{blue}{\\text{(primál változók)}}\\\\\n",
    "\\text{f.h.} & \\phantom{12}y_1 + \\phantom{2}3y_2 - \\phantom{0}y_3 & \\geq & 1 & \\hspace{10mm} \\color{blue}{(x_1)}\\\\\n",
    "& \\phantom{1}2y_1 + \\phantom{2}2y_2 + \\phantom{0}y_3 & \\geq & 3 & \\hspace{10mm} \\color{blue}{(x_2)}\\\\\n",
    "& \\phantom{24}y_1, \\phantom{12}y_2, \\phantom{0}y_3 & \\geq & 0\n",
    "\\end{array}\n",
    "}$$\n",
    "\n",
    "* Primál vátozók száma = duál korlátok száma és fordítva\n",
    "* primál célfüggvény együtthatók = duál jobb oldali konstansok és fordítva\n",
    "* a primál együtthatómátrix *majdnem* a duál együtthatómátrix transzponáltja <br>(ha $\\leq$-re rendeznénk a harmadik primál korlátot)"
   ]
  },
  {
   "cell_type": "code",
   "execution_count": 1,
   "id": "e6e21f9d",
   "metadata": {},
   "outputs": [
    {
     "name": "stdout",
     "output_type": "stream",
     "text": [
      "Hadsereg:\n",
      "MAXIMIZE\n",
      "1*katona + 3*páncél + 0\n",
      "SUBJECT TO\n",
      "idő: katona + 2 páncél <= 12\n",
      "\n",
      "pénz: 3 katona + 2 páncél <= 24\n",
      "\n",
      "üres_páncél: katona - páncél >= 0\n",
      "\n",
      "VARIABLES\n",
      "katona Continuous\n",
      "páncél Continuous\n",
      "\n",
      "Optimális megoldást találtunk.\n",
      "Célfüggvény érték: z* =  16.0\n",
      "Megoldás: katona* =  4.0 , pancel* =  4.0\n",
      "y1 = 1.3333333\n",
      "y2 = -0.0\n",
      "y3 = 0.33333333\n"
     ]
    }
   ],
   "source": [
    "#pip install pulp # ha még egyszer sem volt telepítve\n",
    "\n",
    "from pulp import *\n",
    "\n",
    "model = LpProblem('Hadsereg', LpMaximize)\n",
    "\n",
    "x1 = LpVariable('katona', lowBound=0 , cat = 'Continuous')\n",
    "x2 = LpVariable('páncél', lowBound=0 , cat = 'Continuous')\n",
    "\n",
    "model += x1 + 3*x2\n",
    "\n",
    "model += x1 + 2*x2 <= 12, \"idő\"\n",
    "model += 3*x1 + 2*x2 <= 24, \"pénz\"\n",
    "model += x1 - x2 >= 0, \"üres páncél\"\n",
    "\n",
    "print(model)\n",
    "\n",
    "megoldas = model.solve()\n",
    "\n",
    "if LpStatus[megoldas] == 'Optimal':\n",
    "    print('Optimális megoldást találtunk.')\n",
    "    print('Célfüggvény érték: z* = ', value(model.objective))\n",
    "    print('Megoldás: katona* = ', value(x1), ', pancel* = ', value(x2))\n",
    "elif megoldas == -1:\n",
    "    print('Az LP-nek nincs megengedett megoldása.')\n",
    "elif LpStatus[megoldas] == 'Unbounded':\n",
    "    print('A célfüggvény nem korlátos.')\n",
    "else:\n",
    "    print('Az LP megoldása valamely problémába ütközött.')\n",
    "\n",
    "    \n",
    "i=0\n",
    "for name, c in model.constraints.items():\n",
    "    if (i == 2):\n",
    "        print('y' + str(i+1) + ' =', -c.pi)\n",
    "    else:\n",
    "        print('y' + str(i+1) + ' =', c.pi)\n",
    "    i += 1"
   ]
  },
  {
   "cell_type": "markdown",
   "id": "b61f0037",
   "metadata": {},
   "source": [
    "e) Értelmezzük az egyes árnyékárakat! A rendelkezésünkre álló erőforrások közül melyik mennyire értékes? Határozzuk meg melyek az aktív és inaktív feltételek!\n",
    "\n",
    "*Megoldás:*\n",
    "<br>Egy plusz óra $y_1 = 4/3$-dal növelné a haderőnket, míg ugyanez plusz 1 dollár esetében $y_2 = 0$. A harmadik árnyékár nehezebben értelmezhető természetes módon: ha egy selejtes páncélt gyártanánk, az $y_3 = 0.33333333$-mal csökkentené a haderőnket.\n",
    "<br> Az első és harmadik feltétel aktív, a második feltétel inaktív."
   ]
  },
  {
   "cell_type": "markdown",
   "id": "f5bd75ee",
   "metadata": {},
   "source": [
    "f) Az inaktív feltételek esetén: a jobb oldali konstans milyen intervallumban változhat ahhoz, hogy az optimális megoldás ne változzon? Hogyan változik eközben az optimális célfüggvény érték?\n",
    "\n",
    "*Megoldás:*\n",
    "<br>$\\leq$ korlát lévén a jobb oldali konstans bármeddig növekedhet, az optimális megoldás nem változik (hiszen a lehetséges megoldások halmaza és a célfüggvény sem változik). A lehetséges csökkenés mértéke a második feltétel $s_2$ *eltérésváltozójának* értéke az optimális megoldásban: $3x_1 + 2x_2 + s_2 = 24$, ahol $s_2 \\geq 0$.\n",
    "<br> Optimális megoldásban $x_1 = 4, x_2=4$, azaz $s_2 = 4$.\n",
    "<br> Összességében tehát a jobb oldali konstans legfeljebb 4-gyel csökkenhet, és tetszőlegesen nőhet ahhoz, hogy az optimális megoldás optimális maradjon. Az optimális célfüggvény érték ekkor nem változik."
   ]
  },
  {
   "cell_type": "code",
   "execution_count": 3,
   "id": "5f59193d",
   "metadata": {},
   "outputs": [
    {
     "name": "stdout",
     "output_type": "stream",
     "text": [
      "s1 = -0.0\n",
      "s2 = 4.0\n",
      "s3 = 1e-12\n"
     ]
    }
   ],
   "source": [
    "i=0\n",
    "for name, c in model.constraints.items():\n",
    "    print('s' + str(i+1) + ' =', c.slack)\n",
    "    i += 1"
   ]
  },
  {
   "cell_type": "markdown",
   "id": "8523c2e1",
   "metadata": {},
   "source": [
    "g) Milyen tartományban változhatnak az egyes célfüggvény-együtthatók értékei ahhoz, hogy az optimális megoldás ne változzon? Hogyan változik eközben az optimális célfüggvény érték?\n",
    "\n",
    "*Megoldás:*\n",
    "<br>A két korlát, melynek csúcspontjában az optimális megoldás található a $x_1 + 2x_2 \\leq 12$ illetve az $x_1 - x_2 \\geq 0$. Ezek meredekségei rendre -1/2 és 1. Az $x_1 + 3x_2$ célfüggvény meredeksége -1/3.\n",
    "\n",
    "Legyen most a katona hadereje egy $c_1$ ismeretlen paraméter. Egészen addig, amíg a célfüggvény meredeksége -1/2 és 1 között marad, addig az eredeti optimális megoldás továbbra is az marad. Tehát egész addig, amíg $c_1$ teljesíti, hogy\n",
    "\n",
    "$$\n",
    "-\\frac{1}{2} \\leq -\\frac{c_1}{3} \\leq 1\n",
    "$$\n",
    "\n",
    "Ez akkor teljesül, ha $1.5 \\geq c_1 \\geq -3$. Ezen tartományon belül az $x_1=4, x_2=4$ továbbra is optimális megoldás, az optimális célfüggvény értéke pedig $16 + (c_1-1)*4$.\n",
    "\n",
    "Ugyanez a nyakkendők tucatjainak $c_2$ értékesítési ára esetén\n",
    "\n",
    "$$\n",
    "-\\frac{1}{2} \\leq -\\frac{1}{c_2} \\leq 1\n",
    "$$\n",
    "\n",
    "Azaz $-1 \\leq c_2 \\leq 2$ tartományban a (4; 4) továbbra is optimális megoldás, az optimális célfüggvény érték $16 + (c_2-3)*4$."
   ]
  },
  {
   "cell_type": "markdown",
   "id": "2b29f813",
   "metadata": {},
   "source": [
    "h) Tegyük fel, hogy lehetőségünk van harckocsit is gyártani, melynek darabja 6 órát és 4 dollárt igényel. Legalább mekkora hadereje kell legyen egy harckocsinak, hogy megérje gyártanunk? A meghatározott érték bármennyi harckocsi legyártására érvényes?\n",
    "\n",
    "*Megoldás:*\n",
    "<br>az árnyékárak alapján a harckocsi hadereje legalább $6*1.333333+4*0=8$, azaz legalább 8-as hadereje kell, hogy legyen. A második korlát eltérésváltozójának értéke éppen 4, azaz 1 harckocsi legyártását követően a második korlát 0-s árnyékára már nem feltétlen marad érvényben. Tehát a válasz nem, legfeljebb 1 harckocsi legyártásáról tudjuk ezt megállapítani."
   ]
  },
  {
   "cell_type": "markdown",
   "id": "98755983",
   "metadata": {},
   "source": [
    "## Mátrixjátékok és dualitás\n",
    "\n",
    "Térjünk vissza a mátrixjátékokra: nem véletlen, hogy a játék értékét meg tudjuk határozni egyaránt a Sor és az Oszlop feladatából is. A két feladat majdnem teljesen egymás **duálisa**.\n",
    "\n",
    "$$\\color{blue}{\n",
    "\\begin{array}{cccc}\n",
    "\\hspace{20mm} \\max v & & & \\hspace{10mm} \\color{red}{\\text{(duál változók)}}\\\\\n",
    "\\phantom{-0x_1} - \\phantom{1}x_2 + 2x_3 - v & \\geq & 0 & \\hspace{10mm} \\color{red}{(-y_1)}\\\\\n",
    "-1x_1 + 2x_2 - 3x_3 - v & \\geq & 0 & \\hspace{10mm} \\color{red}{(-y_2)}\\\\\n",
    "\\phantom{+}2x_1 - 3x_2 + 4x_3 - v & \\geq & 0 & \\hspace{10mm} \\color{red}{(-y_3)}\\\\\n",
    "-3x_1 + 4x_2 - 5x_3 - v & \\geq & 0 & \\hspace{10mm} \\color{red}{(-y_4)}\\\\\n",
    "\\phantom{1}x_1 + \\phantom{1}x_2 + \\phantom{1}x_3 \\phantom{+0v} & = & 1 & \\hspace{10mm} \\color{red}{(w)}\\\\\n",
    "\\phantom{1}x_1, \\phantom{1}x_2, \\phantom{1}x_3, \\phantom{,0v} & \\geq & 0\n",
    "\\end{array}\n",
    "}$$\n",
    "\n",
    "Az együtthatómátrix\n",
    "$$\n",
    "\\color{blue}{\n",
    "\\left[ \\begin{array}{ccc|c}\n",
    " \\phantom{-}0 & -1 & \\phantom{-}2 & -1 \\\\\n",
    " -1 & \\phantom{-}2 & -3 & -1\\\\\n",
    " \\phantom{-}2 & -3 & \\phantom{-}4 & -1 \\\\\n",
    " -3 & \\phantom{-}4 & -5 & -1 \\\\ \\hline\n",
    " \\phantom{-}1 & \\phantom{-}1 & \\phantom{-}1 & \\phantom{-}0\n",
    "\\end{array} \\right]\n",
    "}$$\n",
    "transzponáltja lesz a duál feladat együtthatómátrixa.\n",
    "$$\n",
    "\\color{red}{\n",
    "\\left[ \\begin{array}{cccc|c}\n",
    " \\phantom{-}0 & -1 & \\phantom{-}2 & -3 & 1\\\\\n",
    " -1 & \\phantom{-}2 & -3 & \\phantom{-}4 & 1\\\\\n",
    " \\phantom{-}2 & -3 & \\phantom{-}4 & -5 & 1\\\\ \\hline\n",
    " -1 & -1 & -1 & -1 \\phantom{-} & 0\n",
    "\\end{array} \\right]\n",
    "}$$\n",
    "Az eredeti feladat célfüggvény együtthatói $[0 \\ 0 \\ 0 \\ 1]$ és jobb oldali konstansai $[0 \\ 0 \\ 0 \\ 0 \\ 1]$ lesznek a duál feladat jobb oldali konstansai és célfüggvényegyütthatói. A maximalizálás minimalizálásra vált: $\\color{red}{\\min w}$\n",
    "\n",
    "Az $\\color{blue}{x_1, x_2, x_3}$ változók előjelkikötései a duál feladat első három korlátozó feltételeiben egyenlőtlenséget, $\\color{blue}v$ kötetlensége az utolsó feltételben egyenlőséget eredményez.\n",
    "\n",
    "$$\\color{red}{\n",
    "\\begin{array}{ccccc}\n",
    "\\hspace{20mm} \\min w & & & \\hspace{10mm} \\color{blue}{primál\\ változók}\\\\\n",
    "\\phantom{-0y_1+1}y_2 - 2y_3 + 3y_4 + w & \\geq & 0 & \\hspace{10mm} \\color{blue}{(x_1)}\\\\\n",
    "\\phantom{-1}y_1 - 2y_2 + 3y_3 - 4y_4 + w & \\geq & 0 & \\hspace{10mm} \\color{blue}{(x_2)}\\\\\n",
    "-2y_1 + 3y_2 - 4y_3 + 5y_4 + w & \\geq & 0 & \\hspace{10mm} \\color{blue}{(x_3)}\\\\\n",
    "\\phantom{1}-y_1 - \\phantom{1}y_2 - \\phantom{1}y_3 - \\phantom{1}y_4 \\phantom{+0w} & = & 1 & \\hspace{10mm} \\color{blue}{(v)}\\\\\n",
    "\\phantom{1}-y_1, \\phantom{1}-y_2, \\phantom{1}-y_3, \\phantom{1}-y_4, \\phantom{,0w} & \\geq & 0\n",
    "\\end{array}\n",
    "}$$\n",
    "\n",
    "Innen, a könnyebb értelmezhetőség végett $-y_i$-ből $y_i$-re történő változótranszformációval megkapjuk Oszlop feladatát az eredeti formájában."
   ]
  },
  {
   "cell_type": "code",
   "execution_count": null,
   "id": "2f4352cb",
   "metadata": {},
   "outputs": [],
   "source": [
    "from pulp import *\n",
    "\n",
    "sor = LpProblem('sor', LpMaximize)\n",
    "\n",
    "x = LpVariable.dicts('x', range(3), lowBound=0, cat='Continuous')\n",
    "v = LpVariable('v', cat='Continuous')\n",
    "\n",
    "A = [[0, -1, 2, -3],[-1, 2, -3, 4],[2, -3, 4, -5]]\n",
    "\n",
    "sor += v\n",
    "\n",
    "for i in range(len(A[0])):\n",
    "    sor += pulp.lpSum([A[j][i]*x[j] for j in range(len(A))]) - v >= 0, \"oszlop stratégia \" + str(i+1)\n",
    "    \n",
    "sor += pulp.lpSum([x[i] for i in range(3)]) == 1, \"valószínűség változók\"\n",
    "\n",
    "print(sor)\n",
    "\n",
    "megoldas = sor.solve()\n",
    "\n",
    "if LpStatus[megoldas] == 'Optimal':\n",
    "    print('Optimális megoldást találtunk.')\n",
    "    print('Játék értéke: v* =', value(sor.objective))\n",
    "    print('Sor kevert stratégiája:')\n",
    "    for i in range(3):\n",
    "        print('x' + str(i+1) + ' =', value(x[i]))\n",
    "    print('Oszlop kevert stratégiája:')\n",
    "    i=0\n",
    "    for name, c in sor.constraints.items():\n",
    "        print('y' + str(i+1) + ' =', -c.pi)\n",
    "        i += 1\n",
    "        if (i == len(A[0])):\n",
    "            break\n",
    "elif megoldas == -1:\n",
    "    print('Az LP-nek nincs megengedett megoldása.')\n",
    "elif LpStatus[megoldas] == 'Unbounded':\n",
    "    print('A célfüggvény nem korlátos.')\n",
    "else:\n",
    "    print('Az LP megoldása valamely problémába ütközött.')"
   ]
  }
 ],
 "metadata": {
  "kernelspec": {
   "display_name": "Python 3 (ipykernel)",
   "language": "python",
   "name": "python3"
  },
  "language_info": {
   "codemirror_mode": {
    "name": "ipython",
    "version": 3
   },
   "file_extension": ".py",
   "mimetype": "text/x-python",
   "name": "python",
   "nbconvert_exporter": "python",
   "pygments_lexer": "ipython3",
   "version": "3.12.7"
  }
 },
 "nbformat": 4,
 "nbformat_minor": 5
}
