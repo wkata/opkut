{
 "cells": [
  {
   "cell_type": "markdown",
   "id": "27e85b98",
   "metadata": {},
   "source": [
    "# 2. gyakorlat\n",
    "\n",
    "## Célok:\n",
    "* LP modell felépítése adott problémából *(folytatás)*\n",
    "* LP megoldása pulp programcsomag használatával\n",
    "* Mátrixjáték kevert egyensúlya LP modelljének megismerése"
   ]
  },
  {
   "cell_type": "markdown",
   "id": "a2aecc1d",
   "metadata": {},
   "source": [
    "### Modellezési feladat, pulp\n",
    "\n",
    "*1. feladat*\n",
    "<br>Egy számítógépes játékban minél ütőképesebb hadsereget szeretnénk létrehozni. Tizenkét óra játékidő áll rendelkezésünkre és 24 dollár van a számlánkon. A hadsereg katonákból és páncélos katonákból áll. Egy katona kiképzése egy órányi időt és három dollárnyi befektetést igényel. Egy páncél legyártása két órányi időt és két dollárnyi befektetést igényel. Egy sima katona harcértéke egy egység, egy páncélos katona harcértéke négy egység.\n",
    "<br>a) Írjunk fel egy LP modellt a problémára!  **- múlt héten szerepelt**"
   ]
  },
  {
   "cell_type": "markdown",
   "id": "d46808ed",
   "metadata": {},
   "source": [
    "*Megoldás:*\n",
    "<br> $x_1$: a kiképzendő katonák száma (eltekintünk az egészértékű elvárástól)\n",
    "<br> $x_2$: a legyártandó páncélok száma (eltekintünk az egészértékű elvárástól)\n",
    "\n",
    "$$\n",
    "\\begin{array}{rll}\n",
    "\\max & x_1 + 3 x_2 & \\\\\n",
    "\\text{f.h.} & x_1 + 2x_2 & \\leq 12 \\\\\n",
    "& 3x_1 + 2x_2 & \\leq 24 \\\\\n",
    "& x_1 - x_2 & \\geq 0 \\\\\n",
    "& x_1, x_2 & \\geq 0\n",
    "\\end{array}\n",
    "$$"
   ]
  },
  {
   "cell_type": "markdown",
   "id": "8bc96372",
   "metadata": {},
   "source": [
    "b) Írjuk fel a lineáris programozási modellt a pulp programcsomag segítségével, oldjuk meg, és olvassuk le a megoldást!"
   ]
  },
  {
   "cell_type": "code",
   "execution_count": null,
   "id": "921b2c71-3227-42e9-a226-b850add8abb3",
   "metadata": {},
   "outputs": [],
   "source": [
    "# Ha a pulp még nem került telepítésre:\n",
    "pip install pulp\n",
    "# Általában külön cellában való futtatást igényel\n",
    "\n",
    "# Ezután egészítsük ki az alábbi hiányos kódot:"
   ]
  },
  {
   "cell_type": "code",
   "execution_count": 1,
   "id": "2a4bc987",
   "metadata": {},
   "outputs": [
    {
     "name": "stdout",
     "output_type": "stream",
     "text": [
      "Hadsereg:\n",
      "MAXIMIZE\n",
      "1*katona + 3*páncél + 0\n",
      "SUBJECT TO\n",
      "idő: katona + 2 páncél <= 12\n",
      "\n",
      "pénz: 3 katona + 2 páncél <= 24\n",
      "\n",
      "páncél: katona - páncél >= 0\n",
      "\n",
      "VARIABLES\n",
      "katona Continuous\n",
      "páncél Continuous\n",
      "\n",
      "1\n",
      "Optimal\n",
      "Optimális megoldást találtunk.\n",
      "Célfüggvény érték: z* =  16.0\n",
      "Megoldás: katona* =  4.0 , páncél* =  4.0\n"
     ]
    }
   ],
   "source": [
    "# Megoldás:\n",
    "\n",
    "# programcsomag betöltése:\n",
    "from pulp import *\n",
    "\n",
    "# LpProblem változó létrehozása a model tárolására:\n",
    "model = LpProblem('Hadsereg', LpMaximize)\n",
    "\n",
    "x1 = LpVariable('katona', lowBound=0 , cat = 'Continuous')\n",
    "x2 = LpVariable('páncél', lowBound=0 , cat = 'Continuous')\n",
    "# lowBound: opcionális alsó korlát\n",
    "# cat: változó jellege (folytonos, egészértékű, bináris)\n",
    "\n",
    "# célfüggvény:\n",
    "model += x1 + 3*x2 # célfüggvény, majd korlátok\n",
    "\n",
    "# korlátok:\n",
    "model += x1 + 2*x2 <= 12, \"idő\"\n",
    "model += 3*x1 + 2*x2 <= 24, \"pénz\"\n",
    "model += x1 - x2 >= 0, \"páncél\"\n",
    "\n",
    "print(model)\n",
    "\n",
    "# LP megoldása:\n",
    "megoldas = model.solve()\n",
    "\n",
    "print(megoldas)\n",
    "print(LpStatus[megoldas])\n",
    "\n",
    "# megoldás leolvasása:\n",
    "if LpStatus[megoldas] == 'Optimal':\n",
    "    print('Optimális megoldást találtunk.')\n",
    "    print('Célfüggvény érték: z* = ', value(model.objective))\n",
    "    print('Megoldás: katona* = ', value(x1), ', páncél* = ', value(x2))\n",
    "elif megoldas == -1:\n",
    "    print('Az LP-nek nincs megengedett megoldása.')\n",
    "elif LpStatus[megoldas] == 'Unbounded':\n",
    "    print('A célfüggvény nem korlátos.')\n",
    "else:\n",
    "    print('Az LP megoldása valamely problémába ütközött.')"
   ]
  },
  {
   "cell_type": "code",
   "execution_count": 2,
   "id": "8a0132d1",
   "metadata": {
    "scrolled": true
   },
   "outputs": [
    {
     "name": "stdout",
     "output_type": "stream",
     "text": [
      "Hadsereg_alt:\n",
      "MAXIMIZE\n",
      "1*x_0 + 3*x_1 + 0\n",
      "SUBJECT TO\n",
      "idő: x_0 + 2 x_1 <= 12\n",
      "\n",
      "pénz: 3 x_0 + 2 x_1 <= 24\n",
      "\n",
      "páncél: x_0 - x_1 >= 0\n",
      "\n",
      "VARIABLES\n",
      "x_0 Continuous\n",
      "x_1 Continuous\n",
      "\n",
      "1\n",
      "Optimal\n",
      "Optimális megoldást találtunk.\n",
      "Célfüggvény érték: z* =  16.0\n",
      "Megoldás: katona* =  4.0 , páncél* =  4.0\n"
     ]
    }
   ],
   "source": [
    "# Alternativ megoldás:\n",
    "\n",
    "# from pulp import *\n",
    "\n",
    "model2 = LpProblem('Hadsereg_alt', LpMaximize)\n",
    "\n",
    "# tömb változó a változók egyenkénti deklarációja helyett\n",
    "x = LpVariable.dicts('x',range(2), lowBound=0, cat=\"Continuous\")\n",
    "\n",
    "# célfüggvény és korlátok ennek megfelelően módosulnak\n",
    "model2 += x[0] + 3*x[1]\n",
    "\n",
    "model2 += x[0] + 2*x[1] <= 12, \"idő\"\n",
    "model2 += 3*x[0] + 2*x[1] <= 24, \"pénz\"\n",
    "model2 += x[0] - x[1] >= 0, \"páncél\"\n",
    "\n",
    "print(model2)\n",
    "\n",
    "megoldas = model2.solve()\n",
    "\n",
    "print(megoldas)\n",
    "print(LpStatus[megoldas])\n",
    "\n",
    "if LpStatus[megoldas] == 'Optimal':\n",
    "    print('Optimális megoldást találtunk.')\n",
    "    print('Célfüggvény érték: z* = ', value(model2.objective))\n",
    "    print('Megoldás: katona* = ', value(x[0]), ', páncél* = ', value(x[1]))\n",
    "elif megoldas == -1:\n",
    "    print('Az LP-nek nincs megengedett megoldása.')\n",
    "elif LpStatus[megoldas] == 'Unbounded':\n",
    "    print('A célfüggvény nem korlátos.')\n",
    "else:\n",
    "    print('Az LP megoldása valamely problémába ütközött.')"
   ]
  },
  {
   "cell_type": "markdown",
   "id": "4d8a652c",
   "metadata": {},
   "source": [
    "c) Van több optimális megoldás?\n",
    "<br>Ha igen, akkor adjuk meg az összes optimális megoldást!\n",
    "<br>Ha nem, akkor tegyük most fel, hogy a páncélos katona harcértéke csökken. Meddig kéne legalább csökkennie ahhoz, hogy több optimális megoldás legyen?"
   ]
  },
  {
   "cell_type": "markdown",
   "id": "206df836",
   "metadata": {},
   "source": [
    "*Megoldás:*\n",
    "<br>Nincs több optimális megoldás.\n",
    "<br>Mindez változatlanul így marad egész addig, amíg a célfüggvény (eredetileg -1/3) meredeksége szigorúan kisebb marad, mint 1, illetve szigorúan nagyobb marad, mint -1/2.\n",
    "<br>$x_2$ célfüggvény együtthatója csökkenésével a határ, amibe a meredekség beleütközik a -1/2, amikor $x_2$ célfüggvény egyutthatója 2-re csökken.\n",
    "<br>A páncélos katona harcértéke 1-gyel nagyobb, mint $x_2$ célfüggvény együtthatója, tehát 3-ig kéne, hogy csökkenjen ahhoz, hogy több optimális megoldás is legyen."
   ]
  },
  {
   "cell_type": "markdown",
   "id": "fdd5133f-c0cf-4127-afb8-2a7f9e50515c",
   "metadata": {},
   "source": [
    "d) Tegyük fel, hogy szeretnénk legalább 8 db páncélt legyártani: $x_2 \\geq 8$ új korlát."
   ]
  },
  {
   "cell_type": "code",
   "execution_count": 5,
   "id": "95adb7a3-3160-4858-8b8a-1a697f92533f",
   "metadata": {},
   "outputs": [
    {
     "name": "stdout",
     "output_type": "stream",
     "text": [
      "-1\n",
      "Infeasible\n",
      "Az LP-nek nincs megengedett megoldása.\n"
     ]
    }
   ],
   "source": [
    "from pulp import *\n",
    "\n",
    "model = LpProblem('Hadsereg', LpMaximize)\n",
    "\n",
    "x1 = LpVariable('katona', lowBound=0 , cat = 'Continuous')\n",
    "x2 = LpVariable('páncél', lowBound=0 , cat = 'Continuous')\n",
    "\n",
    "model += x1 + 3*x2\n",
    "\n",
    "model += x1 + 2*x2 <= 12, \"idő\"\n",
    "model += 3*x1 + 2*x2 <= 24, \"pénz\"\n",
    "model += x1 - x2 >= 0, \"páncél\"\n",
    "model += x2 >= 8, \"túlzás\"\n",
    "\n",
    "print(model)\n",
    "\n",
    "megoldas = model.solve()\n",
    "\n",
    "print(megoldas)\n",
    "print(LpStatus[megoldas])\n",
    "\n",
    "if LpStatus[megoldas] == 'Optimal':\n",
    "    print('Optimális megoldást találtunk.')\n",
    "    print('Célfüggvény érték: z* = ', value(model.objective))\n",
    "    print('Megoldás: katona* = ', value(x1), ', páncél* = ', value(x2))\n",
    "elif megoldas == -1:\n",
    "    print('Az LP-nek nincs megengedett megoldása.')\n",
    "elif LpStatus[megoldas] == 'Unbounded':\n",
    "    print('A célfüggvény nem korlátos.')\n",
    "else:\n",
    "    print('Az LP megoldása valamely problémába ütközött.')"
   ]
  },
  {
   "cell_type": "code",
   "execution_count": 7,
   "id": "f2c34518-bbfe-4961-a363-0daa4c6bc929",
   "metadata": {},
   "outputs": [
    {
     "name": "stdout",
     "output_type": "stream",
     "text": [
      "Célfüggvény érték: z* =  16.0\n",
      "Megoldás: katona* =  4.0 , páncél* =  4.0\n"
     ]
    }
   ],
   "source": [
    "print('Célfüggvény érték: z* = ', value(model.objective))\n",
    "print('Megoldás: katona* = ', value(x1), ', páncél* = ', value(x2))"
   ]
  },
  {
   "cell_type": "markdown",
   "id": "66a43f5a",
   "metadata": {},
   "source": [
    "*2. feladat*\n",
    "\n",
    "Egy cég kétféle szarvasmarhatápot állít elő, mindkettő csak búzából és lóheréből áll. Az 1-es tápnak legalább 80% búzát kell tartalmaznia, míg a 2-es tápnak legalább 60% lóherét kell tartalmaznia.\n",
    "<br>Az 1-es táp eladási ára kg-ként 1.50\\\\$, a 2-es táp eladási ára kg-ként 1.30\\\\$.\n",
    "<br>A cég legfeljebb 1000 kg búzát vásárolhat, kg-ját 50 centért, és legfeljebb 800 kg lóherét vásárolhat, kg-ját 40 centért.\n",
    "<br>a) Fogalmazzon meg egy lineáris programozási modellt a cég profitjának maximalizálására!"
   ]
  },
  {
   "cell_type": "markdown",
   "id": "7c4ee528",
   "metadata": {},
   "source": [
    "*Megoldás:*\n",
    "\n",
    "Döntési változók:\n",
    "<br>$x_1$: 1-es táp mennyisége\n",
    "<br>$x_2$: 2-es táp mennyisége\n",
    "<br>$y_{11}$: búza 1-es táphoz\n",
    "<br>$y_{21}$: lóhere 1-es táphoz\n",
    "<br>$y_{12}$: búza 2-es táphoz\n",
    "<br>$y_{22}$: lóhere 2-es táphoz\n",
    "\t\t\t\t\n",
    "Célfüggvény:\n",
    "$z = 1.5x_1 + 1.3x_2 - 0.5 (y_{11} + y_{12}) - 0.4 (y_{21} + y_{22}) \\to \\max!$\n",
    "\n",
    "Korlátok:\n",
    "* Mennyiségek:\n",
    "    <br>$x_1 = y_{11} + y_{21}$ $\\;\\;\\;\\;\\;\\;$ ($x_1 \\leq y_{11} + y_{21}$ is lehetne)\n",
    "    <br>$x_2 = y_{12} + y_{22}$ $\\;\\;\\;\\;\\;\\;$ ($x_2 \\leq y_{12} + y_{22}$ is lehetne)\n",
    "\t<br>$y_{11} + y_{12} \\leq 1000$\n",
    "\t<br>$y_{21} + y_{22} \\leq 800$\n",
    "    <br>\n",
    "* Arányok:\n",
    "    <br>$\\frac{y_{11}}{y_{11} + y_{21}} \\geq 0.8$\n",
    "    <br>$\\frac{y_{22}}{y_{12} + y_{22}} \\geq 0.6$\n",
    "    \n",
    "    Nemlineáris! Helyette:\n",
    "    <br>$y_{11} \\geq 0.8(y_{11} + y_{21})$\n",
    "    <br>$y_{22} \\geq 0.6(y_{12} + y_{22})$\n",
    "    <br>\n",
    "* Nemnegativitás:\n",
    "    <br>$x_1, x_2, y_{11}, y_{12}, y_{21}, y_{22} \\geq 0$"
   ]
  },
  {
   "cell_type": "markdown",
   "id": "c5a23b8c",
   "metadata": {},
   "source": [
    "b) A cég elhatározta, hogy mennyiségi kedvezményt ad. Ha több mint 300 kg 1-es tápot ad el, akkor minden egyes 300 kg feletti kg tápot 1.25\\\\$-ért ad.\n",
    "<br>Ehhez hasonlóan minden 300 kg feletti kg 2-es tápot 1.00\\\\$-ért kínál.\n",
    "<br>Módosítsa a linearáis programot úgy, hogy figyelembe veszi a mennyiségi árengedményt!"
   ]
  },
  {
   "cell_type": "markdown",
   "id": "c7cd5b0c",
   "metadata": {},
   "source": [
    "*Megoldás:*\n",
    "\n",
    "A 3. gyakorlaton visszatérünk rá"
   ]
  },
  {
   "cell_type": "markdown",
   "id": "b7dbb80c",
   "metadata": {},
   "source": [
    "### Gyakorló feladat: modellezési, grafikus megoldás, pulp\n",
    "\n",
    "*3. feladat*\n",
    "\n",
    "A Sörvinus Kft kézműves sört gyárt. Alapanyagként árpamalátát és komlót használ.\n",
    "<br>Az előállított sör keserűségét és testességét egy skálán mérik:\n",
    "* Egy adag árpamaláta hozzáadása 0,12 ponttal, egy adag komló 0,15 ponttal növeli a sör keserűségét.\n",
    "* A sör testességét a komló 0,25 tel növeli, az árpamaláta viszont 0,1 gyel csökkenti\n",
    "\n",
    "Egy adag árpamaláta 600 Ft-ba, egy adag komló pedig 760 Ft-ba kerül. Milyen arányban keverje az összetevőket a Sörvinus ha a lehető legolcsóbb olyan sört szeretné főzni, amely megfelel az alábbi feltételeknek:\n",
    "* A sör keserűsége legfeljebb 0,42 lehet.\n",
    "* A sör testessége 0,35 és 0,46 közé kell, hogy essen.\n",
    "* A hozzáadott komló mennyisége nem haladhatja meg az árpamaláta mennyiségének kétszeresét.\n",
    "\n",
    "a) Írjunk fel egy LP modellt a problémára!"
   ]
  },
  {
   "cell_type": "markdown",
   "id": "9a24e491",
   "metadata": {},
   "source": [
    "*Megoldás:*\n",
    "<br> $x_1$: árpamaláta (adag)\n",
    "<br> $x_2$: komló (adag)\n",
    "\n",
    "$$\n",
    "\\begin{array}{rll}\n",
    "\\min & 600x_1 + 760x_2 & \\\\\n",
    "\\text{f.h. } & 0.12x_1 + 0.15x_2 & \\leq 0.42 \\\\\n",
    "& -0.1x_1 + 0.25x_2 & \\geq 0.35 \\\\\n",
    "& -0.1x_1 + 0.25x_2 & \\leq 0.46 \\\\\n",
    "& -2x_1 + x_2 & \\leq 0 \\\\\n",
    "& x_1, x_2 & \\geq 0\n",
    "\\end{array}\n",
    "$$"
   ]
  },
  {
   "cell_type": "markdown",
   "id": "457c20f8",
   "metadata": {},
   "source": [
    "b) Adjunk meg egy optimális megoldást, és a hozzá tartozó optimális célfüggvény értéket! Az optimális megoldásban mely feltételek inaktívak? Az inaktív feltételek jobb oldalai legfeljebb mennyit változhatnak úgy, hogy a kiválasztott optimális megoldás továbbra is optimális maradjon?"
   ]
  },
  {
   "cell_type": "markdown",
   "id": "8e8247f6",
   "metadata": {},
   "source": [
    "*Megoldás:*\n",
    "<br>Optimális megoldás: (7/8; 7/4)\n",
    "<br>Optimális célfüggvény érték: 1855\n",
    "<br>Inaktív feltételek: első és harmadik (illetve az előjelkorlátok)\n",
    "<br>Megengedett változás az első korlát jobb oldalán: [0,0525; inf) (avagy a jobb oldal a [0,3675, inf) intervallumon belül)\n",
    "<br>Megengedett változás a harmadik korlát jobb oldalán: [-0,11; inf) (avagy a jobb oldal a [0,35, inf) intervallumon belül)"
   ]
  },
  {
   "cell_type": "markdown",
   "id": "27319919",
   "metadata": {},
   "source": [
    "c) Írjuk fel a lineáris programozási modellt a pulp programcsomag segítségével, oldjuk meg, és olvassuk le a megoldást!"
   ]
  },
  {
   "cell_type": "code",
   "execution_count": 3,
   "id": "efaf1123",
   "metadata": {},
   "outputs": [
    {
     "name": "stdout",
     "output_type": "stream",
     "text": [
      "Sörvinus:\n",
      "MINIMIZE\n",
      "760*komló + 600*maláta + 0\n",
      "SUBJECT TO\n",
      "keserűség: 0.15 komló + 0.12 maláta <= 0.42\n",
      "\n",
      "testesség_min: 0.25 komló - 0.1 maláta >= 0.35\n",
      "\n",
      "testesség_max: 0.25 komló - 0.1 maláta <= 0.46\n",
      "\n",
      "komló_maláta_arány: komló - 2 maláta <= 0\n",
      "\n",
      "VARIABLES\n",
      "komló Continuous\n",
      "maláta Continuous\n",
      "\n",
      "Optimális megoldást találtunk.\n",
      "Célfüggvény érték: z* =  1855.0\n",
      "Megoldás: maláta* =  0.875 , komló* =  1.75\n"
     ]
    }
   ],
   "source": [
    "# Megoldás:\n",
    "\n",
    "# from pulp import *\n",
    "\n",
    "model = LpProblem('Sörvinus', LpMinimize)\n",
    "\n",
    "x1 = LpVariable('maláta', lowBound=0 , cat = 'Continuous')\n",
    "x2 = LpVariable('komló', lowBound=0 , cat = 'Continuous')\n",
    "\n",
    "model += 600*x1 + 760*x2\n",
    "\n",
    "model += 0.12*x1 + 0.15*x2 <= 0.42, \"keserűség\"\n",
    "model += -0.1*x1 + 0.25*x2 >= 0.35, \"testesség_min\"\n",
    "model += -0.1*x1 + 0.25*x2 <= 0.46, \"testesség_max\"\n",
    "model += -2*x1 + x2 <= 0, \"komló_maláta_arány\"\n",
    "\n",
    "print(model)\n",
    "\n",
    "megoldas = model.solve()\n",
    "\n",
    "if LpStatus[megoldas] == 'Optimal':\n",
    "    print('Optimális megoldást találtunk.')\n",
    "    print('Célfüggvény érték: z* = ', value(model.objective))\n",
    "    print('Megoldás: maláta* = ', value(x1), ', komló* = ', value(x2))\n",
    "elif megoldas == -1:\n",
    "    print('Az LP-nek nincs megengedett megoldása.')\n",
    "elif LpStatus[megoldas] == 'Unbounded':\n",
    "    print('A célfüggvény nem korlátos.')\n",
    "else:\n",
    "    print('Az LP megoldása valamely problémába ütközött.')"
   ]
  },
  {
   "cell_type": "markdown",
   "id": "972480f7",
   "metadata": {},
   "source": [
    "### Mátrixjáték\n",
    "\n",
    "<ins>Emlékeztető:</ins>\n",
    "* Kevert stratégia **x**: ha egy játékosnak $k$ választási lehetősége van\n",
    "    * ezekhez rendel $x_i, i=1, \\dots, k$ valószínűségeket, melyekre teljesül\n",
    "    * $x_i \\in [0,1]$ minden $i=1, \\dots, k$-ra\n",
    "    * $\\sum_{i=1}^k x_i = 1$.\n",
    "\n",
    "A kevert stratégiák jelentősége:\n",
    "* Sor játékos célja: minél nagyobb garantált minimális kifizetés.\n",
    "    * Tényleges kifizetés az Oszlop játékos döntésétől is függ!\n",
    "* Oszlop játékos célja: minél kisebb garantált maximális veszteség.\n",
    "* **Minden mtx.játékban létezik Sor és Oszlop kevert stratégiái, melyekre az előbbiek egyszerre teljesülnek**\n",
    "\n",
    "Az így megkapott kevert stratégiapárt a mx.játék <ins>Nash-egyensúly</ins>ának nevezzük.\n",
    "* Nash-egyensúlyban egyik játékosnak sem éri meg egyoldalúan eltérnie a választott stratégiájától\n",
    "* egyoldalúan: a másik játékos kevert stratégiájának változatlansága mellett\n",
    "* nem éri meg: nem növekszik a várható kifizetése\n",
    "* a Nash-egyensúly egyben a <ins>játék nyeregpontja</ins> (*kifizetési függvény egy nyeregpontját határozza meg*)"
   ]
  },
  {
   "cell_type": "markdown",
   "id": "5c2173b4",
   "metadata": {},
   "source": [
    "<ins>LP modell</ins> a Nash-egyensúlyi kevert stratégiapár meghatározására:\n",
    "\n",
    "Legyen a mtx.játék kifzetési mátrixa az alábbi:\n",
    "$$\n",
    "A =\\left[ \\begin{array}{ccc}\n",
    " 10 & 8 & 7 \\\\\n",
    " \\phantom{1}4 & 9 & 6 \\\\\n",
    "\\end{array} \\right]\n",
    "$$\n",
    "\n",
    "Sor kevert stratégiája: $x_1, x_2$ valószínűségek\n",
    "* Oszlop elsőt választ: Sor várható kifizetése $10x_1 + 4x_2$\n",
    "* Oszlop második: $8x_1 + 9x_2$\n",
    "* Oszlop harmadik: $7x_1 + 6x_2$\n",
    "\n",
    "Bármilyen stratégiát is választ Oszlop, Sor maximalizálja, amit el tud érni\n",
    "* maximalizálja a várható kifizetései közül a legkisebbet (azok minimumát)\n",
    "* azaz: maximalizál egy $v$ értéket, amely alsó korlátja mindegyiknek\n",
    "$$\n",
    "\\color{blue}{\n",
    "\\begin{array}{r}\n",
    "10x_1 + 4x_2 \\geq v \\\\\n",
    "8x_1 + 9x_2 \\geq v \\\\\n",
    "7x_1 + 6x_2 \\geq v\n",
    "\\end{array}\n",
    "}\n",
    "$$\n",
    "\n",
    "Célfüggvény: $\\hspace{8mm}\\color{blue}{\\max v}$\n",
    "<br> Valószínűségek: $\\;\\color{blue}{x_1 + x_2 = 1}$\n",
    "<br> $\\hspace{29mm}\\color{blue}{x_1, x_2 \\geq 0}$"
   ]
  },
  {
   "cell_type": "markdown",
   "id": "62db479e",
   "metadata": {},
   "source": [
    "* Vegyük észre, hogy az újonnan bevezetett $v$ változóra nincs előjelkikötés!\n",
    "* $v$ az az érték, amekkora nyereséget Sor mindenképp tud garantálni magának\n",
    "* Az optimális megoldásban felvett $v^*$ értéket nevezzük a **játék értékének**\n",
    "* Ha $v^* >0$: a játék *Sornak kedvez*; $v^* <0$: a játék *Oszlopnak kedvez*; $v^* =0$: a játék *igazságos*"
   ]
  },
  {
   "cell_type": "code",
   "execution_count": 4,
   "id": "a6c3f730",
   "metadata": {},
   "outputs": [
    {
     "name": "stdout",
     "output_type": "stream",
     "text": [
      "sor:\n",
      "MAXIMIZE\n",
      "1*v + 0\n",
      "SUBJECT TO\n",
      "oszlop_stratégia_1: - v + 10 x1 + 4 x2 >= 0\n",
      "\n",
      "oszlop_stratégia_2: - v + 8 x1 + 9 x2 >= 0\n",
      "\n",
      "oszlop_stratégia_3: - v + 7 x1 + 6 x2 >= 0\n",
      "\n",
      "valószínűségi_változók: x1 + x2 = 1\n",
      "\n",
      "VARIABLES\n",
      "v free Continuous\n",
      "x1 Continuous\n",
      "x2 Continuous\n",
      "\n",
      "Optimális megoldást találtunk.\n",
      "Játék értéke: v* = 7.0\n",
      "Sor kevert stratégiája: x1 = 1.0 , x2 = 0.0\n"
     ]
    }
   ],
   "source": [
    "# Sor LP megoldásal pulppal\n",
    "\n",
    "# from pulp import *\n",
    "\n",
    "sor = LpProblem('sor', LpMaximize)\n",
    "\n",
    "x1 = LpVariable('x1', lowBound=0, cat='Continuous')\n",
    "x2 = LpVariable('x2', lowBound=0, cat='Continuous')\n",
    "\n",
    "# Az alábbi sorral van lehetőségem egyszerre több változót hozzáadni a modellhez:\n",
    "# x = LpVariable.dicts('x',range(2), lowBound=0, cat=\"continuous\")\n",
    "\n",
    "v = LpVariable('v', cat='Continuous')\n",
    "# Vegyük észre az előjelkikötés (nemnegativitás) hiányát!\n",
    "\n",
    "sor += v\n",
    "\n",
    "sor += 10*x1 + 4*x2 - v >= 0, \"oszlop stratégia 1\"\n",
    "sor += 8*x1 + 9*x2 - v >= 0, \"oszlop stratégia 2\"\n",
    "sor += 7*x1 + 6*x2 - v >= 0, \"oszlop stratégia 3\"\n",
    "sor += x1 + x2 == 1, \"valószínűségi változók\"\n",
    "\n",
    "print(sor)\n",
    "\n",
    "megoldas = sor.solve()\n",
    "\n",
    "if LpStatus[megoldas] == 'Optimal':\n",
    "    print('Optimális megoldást találtunk.')\n",
    "    print('Játék értéke: v* =', value(sor.objective))\n",
    "    print('Sor kevert stratégiája: x1 =', value(x1), ', x2 =', value(x2))\n",
    "elif megoldas == -1:\n",
    "    print('Az LP-nek nincs megengedett megoldása.')\n",
    "elif LpStatus[megoldas] == 'Unbounded':\n",
    "    print('A célfüggvény nem korlátos.')\n",
    "else:\n",
    "    print('Az LP megoldása valamely problémába ütközött.')"
   ]
  },
  {
   "cell_type": "markdown",
   "id": "a740cb03",
   "metadata": {},
   "source": [
    "Ugyanez az Oszlop szempontjából: kevert stratégiája $y_1, y_2, y_3$ valószínűségek\n",
    "* Sor elsőt választ: Oszlop várható kifizetése $10y_1 + 8y_2 + 7y_3$\n",
    "* Sor második: $4y_1 + 9y_2 + 6y_3$\n",
    "\n",
    "Bármilyen stratégiát is választ Sor, Oszlop minimalizálja, amit veszíthet\n",
    "* minimalizálja a várható veszteségei közül a legnagyobbat (azok maximumát)\n",
    "* azaz: minimalizál egy $w$ értéket, amely felső korlátja mindegyiknek \n",
    "$\\color{blue}{\n",
    "\\hspace{20mm}10y_1 + 8y_2 + 7y_3 \\leq w \\\\\n",
    "\\hspace{22mm}4y_1 + 9y_2 + 6y_3 \\leq w\n",
    "}$\n",
    "\n",
    "Célfüggvény: $\\hspace{6mm}\\color{blue}{\\min w}$\n",
    "<br> Valószínűségek: $\\;\\color{blue}{y_1 + y_2 + y_3= 1,}$\n",
    "<br> $\\hspace{29mm} \\color{blue}{y_1, y_2, y_3 \\geq 0}$"
   ]
  },
  {
   "cell_type": "markdown",
   "id": "4597e1a9",
   "metadata": {},
   "source": [
    "* Vegyük észre, hogy az újonnan bevezetett $w$ változóra szintén nincs előjelkikötés!\n",
    "* Oszlop garantálni tudja, hogy $w$ értékénél nagyobb veszteséget nem szenved el\n",
    "* Az optimális megoldásban felvett $w^*$ érték szintén a **játék értéke**\n",
    "* Azaz ha $w^* >0$: a játék *Sornak kedvez*; $w^* <0$: a játék *Oszlopnak kedvez*; $w^* =0$: a játék *igazságos*"
   ]
  },
  {
   "cell_type": "code",
   "execution_count": 5,
   "id": "113a386c",
   "metadata": {},
   "outputs": [
    {
     "name": "stdout",
     "output_type": "stream",
     "text": [
      "oszlop:\n",
      "MINIMIZE\n",
      "1*w + 0\n",
      "SUBJECT TO\n",
      "sor_stratégia_1: - w + 10 y_0 + 8 y_1 + 7 y_2 <= 0\n",
      "\n",
      "sor_stratégia_2: - w + 4 y_0 + 9 y_1 + 6 y_2 <= 0\n",
      "\n",
      "valószínűségi_változók: y_0 + y_1 + y_2 = 1\n",
      "\n",
      "VARIABLES\n",
      "w free Continuous\n",
      "y_0 Continuous\n",
      "y_1 Continuous\n",
      "y_2 Continuous\n",
      "\n",
      "Optimális megoldást találtunk.\n",
      "Játék értéke: w* = 7.0\n",
      "Oszlop kevert stratégiája:\n",
      "y1 = 0.0\n",
      "y2 = 0.0\n",
      "y3 = 1.0\n"
     ]
    }
   ],
   "source": [
    "# Oszlop LP megoldásal pulppal\n",
    "\n",
    "# from pulp import *\n",
    "\n",
    "oszlop = LpProblem('oszlop', LpMinimize)\n",
    "\n",
    "# Egyszerre több, azonos karakterisztkájú változót is deklarálhatunk\n",
    "y = LpVariable.dicts('y',range(3), lowBound=0, cat=\"Continuous\")\n",
    "w = LpVariable('w', cat='Continuous')\n",
    "# Vegyük észre az előjelkikötés (nemnegativitás) hiányát!\n",
    "\n",
    "oszlop += w\n",
    "\n",
    "# A változólistánk elemenkénti használata (az indexálás 0-tól indul!)\n",
    "oszlop += 10*y[0] + 8*y[1] + 7*y[2] - w <= 0, \"sor stratégia 1\"\n",
    "oszlop += 4*y[0] + 9*y[1] + 6*y[2] - w <= 0, \"sor stratégia 2\"\n",
    "\n",
    "# Változólista lehetőséget ad az elemein történő iteráláson\n",
    "# Az így kapott lista elemeit a pulp lpSum összegző függvényével használhatjuk\n",
    "oszlop += pulp.lpSum([y[i] for i in range(3)]) == 1, \"valószínűségi változók\"\n",
    "\n",
    "print(oszlop)\n",
    "\n",
    "megoldas = oszlop.solve()\n",
    "\n",
    "if LpStatus[megoldas] == 'Optimal':\n",
    "    print('Optimális megoldást találtunk.')\n",
    "    print('Játék értéke: w* =', value(oszlop.objective))\n",
    "    print('Oszlop kevert stratégiája:')\n",
    "    for i in range(3):\n",
    "        print('y' + str(i+1) + ' =', value(y[i]))\n",
    "elif megoldas == -1:\n",
    "    print('Az LP-nek nincs megengedett megoldása.')\n",
    "elif LpStatus[megoldas] == 'Unbounded':\n",
    "    print('A célfüggvény nem korlátos.')\n",
    "else:\n",
    "    print('Az LP megoldása valamely problémába ütközött.')"
   ]
  },
  {
   "cell_type": "markdown",
   "id": "2340b1c9",
   "metadata": {},
   "source": [
    "Meg lehetett volna találni az optimális kevert stratégiát LP használata nélkül is?\n",
    "\n",
    "Sor egyik (tiszta) stratégiája sem dominálja a másikat. Oszlop második stratégiája dominálja a harmadikat. A dominált stratégia kiszűrése után fennmaradó kifizetési mátrix\n",
    "$$\n",
    "\\left[ \\begin{array}{cc}\n",
    " 10 & 7 \\\\\n",
    " \\phantom{1}4 & 6 \\\\\n",
    "\\end{array} \\right]\n",
    "$$\n",
    "\n",
    "Ekkor már Sor első stratégiája dominálja a másodikat, így a második sort is törölhetjük a mátrixból. A fennmaradó két kimenetből pedig Oszlop egyértelműen tud választani (7 veszteség 10 helyett)."
   ]
  },
  {
   "cell_type": "markdown",
   "id": "43300e3b",
   "metadata": {},
   "source": [
    "### Mátrixjáték gyakorló feladatok\n",
    "\n",
    "*4. feladat*\n",
    "<br>Az első játékosnak van 2 kavicsa, a második játékosnak 3. Mindkét játékos betesz valahány kavicsot a kezébe (anélkül, hogy a másik játékosnak megmutatná) és utána mindketten kinyitják a kezüket. Ha a kavicsok összege páros, akkor a kavicsok összegének megfelelő pénzt fizet a második az első játékosnak; ha páratlan, akkor viszont a második játékosnak fizet az első a kavicsok összegét.\n",
    "<br>a) Írjuk fel a játék kifizetési mátrixát!"
   ]
  },
  {
   "cell_type": "markdown",
   "id": "aedf15f4",
   "metadata": {},
   "source": [
    "*Megoldás:*\n",
    "$$\n",
    "\\left[ \\begin{array}{cccc}\n",
    " \\phantom{-}0 & -1 & \\phantom{-}2 & -3 \\\\\n",
    " -1 & \\phantom{-}2 & -3 & \\phantom{-}4 \\\\\n",
    " \\phantom{-}2 & -3 & \\phantom{-}4 & -5 \\\\\n",
    "\\end{array} \\right]\n",
    "$$"
   ]
  },
  {
   "cell_type": "markdown",
   "id": "ad8e765a",
   "metadata": {},
   "source": [
    "b) Határozzuk meg a mátrixjáték egy Nash-egyensúlyi kevert stratégiapárját egy LP segítségével! Ha választhat, melyik szerepben játszana inkább? Mennyit lenne hajlandó áldozni arra, hogy játszhasson?"
   ]
  },
  {
   "cell_type": "code",
   "execution_count": null,
   "id": "6b250b8f",
   "metadata": {},
   "outputs": [
    {
     "name": "stdout",
     "output_type": "stream",
     "text": [
      "sor:\n",
      "MAXIMIZE\n",
      "1*v + 0\n",
      "SUBJECT TO\n",
      "oszlop_stratégia_1: - v - x_1 + 2 x_2 >= 0\n",
      "\n",
      "oszlop_stratégia_2: - v - x_0 + 2 x_1 - 3 x_2 >= 0\n",
      "\n",
      "oszlop_stratégia_3: - v + 2 x_0 - 3 x_1 + 4 x_2 >= 0\n",
      "\n",
      "oszlop_stratégia_4: - v - 3 x_0 + 4 x_1 - 5 x_2 >= 0\n",
      "\n",
      "valószínűségi_változók: x_0 + x_1 + x_2 = 1\n",
      "\n",
      "VARIABLES\n",
      "v free Continuous\n",
      "x_0 Continuous\n",
      "x_1 Continuous\n",
      "x_2 Continuous\n",
      "\n",
      "Optimális megoldást találtunk.\n",
      "Játék értéke: v* = 0.0\n",
      "Sor kevert stratégiája:\n",
      "x1 = 0.25\n",
      "x2 = 0.5\n",
      "x3 = 0.25\n"
     ]
    }
   ],
   "source": [
    "# Megoldás:\n",
    "\n",
    "# from pulp import *\n",
    "\n",
    "sor = LpProblem('sor', LpMaximize)\n",
    "\n",
    "x = LpVariable.dicts('x', range(3), lowBound=0, cat='Continuous')\n",
    "v = LpVariable('v', cat='Continuous')\n",
    "\n",
    "sor += v\n",
    "\n",
    "sor += -x[1] + 2*x[2] - v >= 0, \"oszlop stratégia 1\"\n",
    "sor += -x[0] + 2*x[1] - 3*x[2] - v >= 0, \"oszlop stratégia 2\"\n",
    "sor += 2*x[0] - 3*x[1] + 4*x[2] - v >= 0, \"oszlop stratégia 3\"\n",
    "sor += -3*x[0] + 4*x[1] - 5*x[2] - v >= 0, \"oszlop stratégia 4\"\n",
    "sor += pulp.lpSum([x[i] for i in range(3)]) == 1, \"valószínűségi változók\"\n",
    "\n",
    "print(sor)\n",
    "\n",
    "megoldas = sor.solve()\n",
    "\n",
    "if LpStatus[megoldas] == 'Optimal':\n",
    "    print('Optimális megoldást találtunk.')\n",
    "    print('Játék értéke: v* =', value(sor.objective))\n",
    "    print('Sor kevert stratégiája:')\n",
    "    for i in range(3):\n",
    "        print('x' + str(i+1) + ' =', value(x[i]))\n",
    "elif megoldas == -1:\n",
    "    print('Az LP-nek nincs megengedett megoldása.')\n",
    "elif LpStatus[megoldas] == 'Unbounded':\n",
    "    print('A célfüggvény nem korlátos.')    \n",
    "else:\n",
    "    print('Az LP megoldása valamely problémába ütközött.')"
   ]
  },
  {
   "cell_type": "code",
   "execution_count": 7,
   "id": "0a3da6f6",
   "metadata": {},
   "outputs": [
    {
     "name": "stdout",
     "output_type": "stream",
     "text": [
      "oszlop:\n",
      "MINIMIZE\n",
      "1*w + 0\n",
      "SUBJECT TO\n",
      "sor_stratégia_1: - w - y_1 + 2 y_2 - 3 y_3 <= 0\n",
      "\n",
      "sor_stratégia_2: - w - y_0 + 2 y_1 - 3 y_2 + 4 y_3 <= 0\n",
      "\n",
      "sor_stratégia_3: - w + 2 y_0 - 3 y_1 + 4 y_2 - 5 y_3 <= 0\n",
      "\n",
      "valószínűségi_változók: y_0 + y_1 + y_2 + y_3 = 1\n",
      "\n",
      "VARIABLES\n",
      "w free Continuous\n",
      "y_0 Continuous\n",
      "y_1 Continuous\n",
      "y_2 Continuous\n",
      "y_3 Continuous\n",
      "\n",
      "Optimális megoldást találtunk.\n",
      "Játék értéke: w* = 0.0\n",
      "Oszlop kevert stratégiája:\n",
      "y1 = 0.25\n",
      "y2 = 0.5\n",
      "y3 = 0.25\n",
      "y4 = 0.0\n"
     ]
    }
   ],
   "source": [
    "#from pulp import *\n",
    "\n",
    "oszlop = LpProblem('oszlop', LpMinimize)\n",
    "\n",
    "y = LpVariable.dicts('y', range(4), lowBound=0, cat='Continuous')\n",
    "w = LpVariable('w', cat='Continuous')\n",
    "\n",
    "oszlop += w\n",
    "\n",
    "oszlop += -y[1] + 2*y[2] - 3*y[3] - w <= 0, \"sor stratégia 1\"\n",
    "oszlop += -y[0] + 2*y[1] - 3*y[2] + 4*y[3] - w <= 0, \"sor stratégia 2\"\n",
    "oszlop += 2*y[0] - 3*y[1] + 4*y[2] - 5*y[3] - w <= 0, \"sor stratégia 3\"\n",
    "oszlop += pulp.lpSum([y[i] for i in range(4)]) == 1, \"valószínűségi változók\"\n",
    "\n",
    "print(oszlop)\n",
    "\n",
    "megoldas = oszlop.solve()\n",
    "\n",
    "if LpStatus[megoldas] == 'Optimal':\n",
    "    print('Optimális megoldást találtunk.')\n",
    "    print('Játék értéke: w* =', value(oszlop.objective))\n",
    "    print('Oszlop kevert stratégiája:')\n",
    "    for i in range(4):\n",
    "        print('y' + str(i+1) + ' =', value(y[i]))\n",
    "elif megoldas == -1:\n",
    "    print('Az LP-nek nincs megengedett megoldása.')\n",
    "elif LpStatus[megoldas] == 'Unbounded':\n",
    "    print('A célfüggvény nem korlátos.')\n",
    "else:\n",
    "    print('Az LP megoldása valamely problémába ütközött.')"
   ]
  },
  {
   "cell_type": "markdown",
   "id": "007fb197",
   "metadata": {},
   "source": [
    "*5. feladat:*\n",
    "<br>Mátrixjáték modellezése. Van egy kistérség, ahol egy út mentén 4 város található (A-B-C-D), egymástól 10-10 km távolságra. Az A város lakossága 10 ezer fő, B városé 50 ezer fő, C városé 25 ezer fő, D városé pedig 15 ezer fő.\n",
    "<br> Két áruházlánc (X és Y) szeretne 1-1 áruházat nyitni a kistérségben. Minden lakos abba az áruházba jár, amelyik közelebb van hozzá. Azon lakosok, akiktől egyforma messze vannak, 60% az X, 40% az Y áruházat választja.\n",
    "<br>a) Írjuk fel a játék kifizetési mátrixát X szemszögéből!"
   ]
  },
  {
   "cell_type": "markdown",
   "id": "0bce88cb",
   "metadata": {},
   "source": [
    "*Megoldás:*\n",
    "$$\n",
    "\\left[ \\begin{array}{cccc}\n",
    " 60 & 10 & 40 & 60 \\\\\n",
    " 90 & 60 & 60 & 75 \\\\\n",
    " 70 & 40 & 60 & 85 \\\\\n",
    " 40 & 30 & 15 & 60 \\\\\n",
    "\\end{array} \\right]\n",
    "$$"
   ]
  },
  {
   "cell_type": "markdown",
   "id": "aeff118c",
   "metadata": {},
   "source": [
    "b) Keressünk *dominált* stratégiákat, amelyeket semmilyen racionális játékos nem választana."
   ]
  },
  {
   "cell_type": "markdown",
   "id": "a1823c6b",
   "metadata": {},
   "source": [
    "*Megoldás:*\n",
    "<br>Oszlop második dominálja az elsőt. Oszlop harmadik dominálja a negyediket. Sor második dominálja a harmadikat."
   ]
  },
  {
   "cell_type": "markdown",
   "id": "4ac6c8d7",
   "metadata": {},
   "source": [
    "c) Írjuk fel az LP modellt, mely segítségével Nash-egyensúlyi kevert stratégiákat tudunk keresni, és a pulp segítségével oldjuk is meg!"
   ]
  },
  {
   "cell_type": "code",
   "execution_count": 8,
   "id": "e147fd90",
   "metadata": {},
   "outputs": [
    {
     "name": "stdout",
     "output_type": "stream",
     "text": [
      "sor:\n",
      "MAXIMIZE\n",
      "1*v + 0\n",
      "SUBJECT TO\n",
      "oszlop_stratégia_1: - v + 60 x_0 + 90 x_1 + 70 x_2 + 40 x_3 >= 0\n",
      "\n",
      "oszlop_stratégia_2: - v + 10 x_0 + 60 x_1 + 40 x_2 + 30 x_3 >= 0\n",
      "\n",
      "oszlop_stratégia_3: - v + 40 x_0 + 60 x_1 + 60 x_2 + 15 x_3 >= 0\n",
      "\n",
      "oszlop_stratégia_4: - v + 60 x_0 + 75 x_1 + 85 x_2 + 60 x_3 >= 0\n",
      "\n",
      "valószínűségi_változók: x_0 + x_1 + x_2 + x_3 = 1\n",
      "\n",
      "VARIABLES\n",
      "v free Continuous\n",
      "x_0 Continuous\n",
      "x_1 Continuous\n",
      "x_2 Continuous\n",
      "x_3 Continuous\n",
      "\n",
      "Optimális megoldást találtunk.\n",
      "Játék értéke: v* = 60.0\n",
      "Sor kevert stratégiája: x1 =  0.0 , x2 =  1.0 , x3 =  0.0 , x4 =  0.0\n"
     ]
    }
   ],
   "source": [
    "# Megoldás:\n",
    "\n",
    "from pulp import *\n",
    "\n",
    "sor = LpProblem('sor', LpMaximize)\n",
    "\n",
    "x = LpVariable.dicts('x', range(4), lowBound=0, cat='Continuous')\n",
    "v = LpVariable('v', cat='Continuous')\n",
    "\n",
    "sor += v\n",
    "\n",
    "sor += 60*x[0] + 90*x[1] + 70*x[2] + 40*x[3] - v >= 0, \"oszlop stratégia 1\"\n",
    "sor += 10*x[0] + 60*x[1] + 40*x[2] + 30*x[3] - v >= 0, \"oszlop stratégia 2\"\n",
    "sor += 40*x[0] + 60*x[1] + 60*x[2] + 15*x[3] - v >= 0, \"oszlop stratégia 3\"\n",
    "sor += 60*x[0] + 75*x[1] + 85*x[2] + 60*x[3] - v >= 0, \"oszlop stratégia 4\"\n",
    "sor += pulp.lpSum([x[i] for i in range(4)]) == 1, \"valószínűségi változók\"\n",
    "\n",
    "print(sor)\n",
    "\n",
    "megoldas = sor.solve()\n",
    "\n",
    "if LpStatus[megoldas] == 'Optimal':\n",
    "    print('Optimális megoldást találtunk.')\n",
    "    print('Játék értéke: v* =', value(sor.objective))\n",
    "    print('Sor kevert stratégiája: x1 = ', value(x[0]), ', x2 = ', value(x[1]), ', x3 = ', value(x[2]), ', x4 = ', value(x[3]))\n",
    "elif megoldas == -1:\n",
    "    print('Az LP-nek nincs megengedett megoldása.')\n",
    "elif LpStatus[megoldas] == 'Unbounded':\n",
    "    print('A célfüggvény nem korlátos.')\n",
    "else:\n",
    "    print('Az LP megoldása valamely problémába ütközött.')"
   ]
  },
  {
   "cell_type": "code",
   "execution_count": 9,
   "id": "0976f5c8",
   "metadata": {},
   "outputs": [
    {
     "name": "stdout",
     "output_type": "stream",
     "text": [
      "oszlop:\n",
      "MINIMIZE\n",
      "1*w + 0\n",
      "SUBJECT TO\n",
      "sor_stratégia_1: - w + 60 y_0 + 10 y_1 + 40 y_2 + 60 y_3 <= 0\n",
      "\n",
      "sor_stratégia_2: - w + 90 y_0 + 60 y_1 + 60 y_2 + 75 y_3 <= 0\n",
      "\n",
      "sor_stratégia_3: - w + 70 y_0 + 40 y_1 + 60 y_2 + 85 y_3 <= 0\n",
      "\n",
      "sor_stratégia_4: - w + 40 y_0 + 30 y_1 + 15 y_2 + 60 y_3 <= 0\n",
      "\n",
      "valószínűségi_változók: y_0 + y_1 + y_2 + y_3 = 1\n",
      "\n",
      "VARIABLES\n",
      "w free Continuous\n",
      "y_0 Continuous\n",
      "y_1 Continuous\n",
      "y_2 Continuous\n",
      "y_3 Continuous\n",
      "\n",
      "Optimális megoldást találtunk.\n",
      "Játék értéke: w* =  60.0\n",
      "Oszlop kevert stratégiája: y1 =  0.0 , y2 =  1.0 , y3 =  0.0 , y4 =  0.0\n"
     ]
    }
   ],
   "source": [
    "#from pulp import *\n",
    "\n",
    "oszlop = LpProblem('oszlop', LpMinimize)\n",
    "\n",
    "y = LpVariable.dicts('y', range(4), lowBound=0, cat='Continuous')\n",
    "w = LpVariable('w', cat='Continuous')\n",
    "\n",
    "oszlop += w\n",
    "\n",
    "oszlop += 60*y[0] + 10*y[1] + 40*y[2] + 60*y[3] - w <= 0, \"sor stratégia 1\"\n",
    "oszlop += 90*y[0] + 60*y[1] + 60*y[2] + 75*y[3] - w <= 0, \"sor stratégia 2\"\n",
    "oszlop += 70*y[0] + 40*y[1] + 60*y[2] + 85*y[3] - w <= 0, \"sor stratégia 3\"\n",
    "oszlop += 40*y[0] + 30*y[1] + 15*y[2] + 60*y[3] - w <= 0, \"sor stratégia 4\"\n",
    "oszlop += pulp.lpSum([y[i] for i in range(4)]) == 1, \"valószínűségi változók\"\n",
    "\n",
    "print(oszlop)\n",
    "\n",
    "megoldas = oszlop.solve()\n",
    "\n",
    "if LpStatus[megoldas] == 'Optimal':\n",
    "    print('Optimális megoldást találtunk.')\n",
    "    print('Játék értéke: w* = ', value(oszlop.objective))\n",
    "    print('Oszlop kevert stratégiája: y1 = ', value(y[0]), ', y2 = ', value(y[1]), ', y3 = ', value(y[2]), ', y4 = ', value(y[3]))\n",
    "elif megoldas == -1:\n",
    "    print('Az LP-nek nincs megengedett megoldása.')\n",
    "elif LpStatus[megoldas] == 'Unbounded':\n",
    "    print('A célfüggvény nem korlátos.')\n",
    "else:\n",
    "    print('Az LP megoldása valamely problémába ütközött.')"
   ]
  }
 ],
 "metadata": {
  "kernelspec": {
   "display_name": "Python 3 (ipykernel)",
   "language": "python",
   "name": "python3"
  },
  "language_info": {
   "codemirror_mode": {
    "name": "ipython",
    "version": 3
   },
   "file_extension": ".py",
   "mimetype": "text/x-python",
   "name": "python",
   "nbconvert_exporter": "python",
   "pygments_lexer": "ipython3",
   "version": "3.12.7"
  }
 },
 "nbformat": 4,
 "nbformat_minor": 5
}
