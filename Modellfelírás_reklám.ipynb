{
 "cells": [
  {
   "cell_type": "markdown",
   "id": "c6090808",
   "metadata": {},
   "source": [
    "### Modellfelírás feladat - Reklám"
   ]
  },
  {
   "cell_type": "markdown",
   "id": "705914de",
   "metadata": {},
   "source": [
    "Egy városi reklámügynökségnek egy olyan kampányt kell levezényelnie, amelyben a helyi 18-49 női korosztályban 142 ezer megtekintést (gross rating point, GRP) a 35-59-es férfi korosztályban pedig 132 ezres megtekintést generálnak. Három lehetőséget mérlegelnek. Egyrészt hirdethetnek a helyi tévében főműsoridőben alkalmanként 192 ezer Ft-ért, vagy a reggeli műsorban 80 ezer Ft-ért. Másrészt a helyi napilapban egy színes egész oldalas hirdetés 45 ezer Forintba kerül. A esti tv szpottal 28 ezer célcsoportbeli nőt és 25 ezer célcsoportbeli férfit érnek el. A reggeli műsorban 12 ezer és 4 ezer ez a szám. Végül az újsághirdetéssel 2 ezer nőt és 7 ezer férfit érnek el. \n",
    "\n",
    "a) Tervezzünk egy minimális költségű reklámkampányt!\n",
    "b) Mennyi a reggeli műsorsávban való hirdetés redukált költsége?\n",
    "c) Mennyivel kerülne többe a kampány ha 142 ezernyi GRP-t helyett 145-öt szeretnénk generálni a nők között?"
   ]
  },
  {
   "cell_type": "markdown",
   "id": "b8eb7359",
   "metadata": {},
   "source": [
    "x1: hány darab főműsoridős reklámot használunk\n",
    "x2: hány darab reggeli műsoridős reklámot használunk\n",
    "x3: hány darab újsághirdetés reklámot használunk\n",
    "\n",
    "min x1*192+x2*80+x3*45\n",
    "\n",
    "korlátok:\n",
    "x1*28+x2*12+x3*2 >= 142\n",
    "x1*25+x2*4+x3*7 >= 132\n",
    "x1, x2, x3 >= 0"
   ]
  },
  {
   "cell_type": "code",
   "execution_count": 8,
   "id": "04c72627",
   "metadata": {},
   "outputs": [
    {
     "name": "stdout",
     "output_type": "stream",
     "text": [
      "Optimal\n",
      "Optimális megoldást találtunk.\n",
      "Célfüggvény érték: z* =  1005.0\n",
      "Megoldás: főműsor* =  5.0 reggeli * = 0.0 újság* = 1.0\n"
     ]
    }
   ],
   "source": [
    "from pulp import *\n",
    "\n",
    "model= LpProblem('reklám', LpMinimize)\n",
    "x1=LpVariable('fő', lowBound=0, cat='Contiuous')\n",
    "x2=LpVariable('reggeli', lowBound=0, cat='Contiuous')\n",
    "x3=LpVariable('újság', lowBound=0, cat='Contiuous')\n",
    "\n",
    "model+= x1*192+x2*80+x3*45\n",
    "model+= x1*28+x2*12+x3*2 >=142, \"nő\"\n",
    "model+= x1*25+x2*4+x3*7 >= 132, \"férfi\"\n",
    "\n",
    "\n",
    "megoldas=model.solve()\n",
    "print(LpStatus[megoldas])\n",
    "\n",
    "if LpStatus[megoldas] == 'Optimal':\n",
    "    print('Optimális megoldást találtunk.')\n",
    "    print('Célfüggvény érték: z* = ', value(model.objective))\n",
    "    print('Megoldás: főműsor* = ', value(x1), \"reggeli * =\", value(x2), \"újság* =\", value(x3))\n",
    "elif megoldas == -1:\n",
    "    print('Az LP-nek nincs megengedett megoldása.')\n",
    "elif LpStatus[megoldas] == 'Unbounded':\n",
    "    print('A célfüggvény nem korlátos.')\n",
    "else:\n",
    "    print('Az LP megoldása valamely problémába ütközött.')\n",
    "    "
   ]
  },
  {
   "cell_type": "code",
   "execution_count": 9,
   "id": "544007d3",
   "metadata": {},
   "outputs": [
    {
     "name": "stdout",
     "output_type": "stream",
     "text": [
      "y_nő= 1.5\n",
      "y_férfi= 6.0\n"
     ]
    }
   ],
   "source": [
    "# árnyákárak\n",
    "for name, c in model.constraints.items():\n",
    "    print(\"y_\"+name+\"=\", c.pi)"
   ]
  },
  {
   "cell_type": "markdown",
   "id": "08e1adee",
   "metadata": {},
   "source": [
    "ha grp 1-el nő, akkor a költség nő 1.5-el??\n"
   ]
  },
  {
   "cell_type": "code",
   "execution_count": 10,
   "id": "192d4eff",
   "metadata": {},
   "outputs": [
    {
     "data": {
      "text/plain": [
       "42.0"
      ]
     },
     "execution_count": 10,
     "metadata": {},
     "output_type": "execute_result"
    }
   ],
   "source": [
    "12*1.5+4*6 --> "
   ]
  },
  {
   "cell_type": "markdown",
   "id": "3740a521",
   "metadata": {},
   "source": [
    "b)\n",
    "42 ezernek kéne lenni a reggeli műsor reklámjának\n",
    "redukált költség: 38 ezer \n",
    "mert most 80 ezerbe kerül"
   ]
  },
  {
   "cell_type": "code",
   "execution_count": null,
   "id": "fcad16b4",
   "metadata": {},
   "outputs": [],
   "source": [
    "ha a nő 3-mal növekszik, akkor 3*1.5 lenne -> 4.5-el nőne a kampány ára"
   ]
  }
 ],
 "metadata": {
  "kernelspec": {
   "display_name": "Python 3 (ipykernel)",
   "language": "python",
   "name": "python3"
  },
  "language_info": {
   "codemirror_mode": {
    "name": "ipython",
    "version": 3
   },
   "file_extension": ".py",
   "mimetype": "text/x-python",
   "name": "python",
   "nbconvert_exporter": "python",
   "pygments_lexer": "ipython3",
   "version": "3.12.7"
  }
 },
 "nbformat": 4,
 "nbformat_minor": 5
}
