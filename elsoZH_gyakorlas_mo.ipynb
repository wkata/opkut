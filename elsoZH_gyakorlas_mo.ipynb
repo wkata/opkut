{
 "cells": [
  {
   "cell_type": "markdown",
   "id": "ef00c166-5a94-4154-9d7d-a50cdd355dcc",
   "metadata": {},
   "source": [
    "# Első ZH - gyakorló feladatok megoldás\n",
    "\n",
    "Az alábbi feladatok az első ZH-ra való gyakorlás céljából készültek. A ZH-n ilyen jellegű kérdésekre lehet számítani (2 feladatra), az alább érintett, illetve az első 4 gyakorlat és az első 2 előadás témaköreiből."
   ]
  },
  {
   "cell_type": "markdown",
   "id": "7516ca0f-4de3-4677-973f-91216de45770",
   "metadata": {},
   "source": [
    "## 1. feladat\n",
    "\n",
    "Egy szennyvíztisztító telepen 3 eljárás segítségével 3 féle anyagot szűrnek a szennyvízből.\n",
    "<br>Az első eljárás óránkénti költsége 100 000 Ft, a második eljárásé 120 000 Ft, a harmadiké pedig 80 000 Ft.\n",
    "<br>Az A, B és C vegyi anyagok koncentrációja a szennyvízben rendre 9, 21 és 18 ezrelék.\n",
    "<br>Az első eljárás óránként 1-1 ezrelékponttal csökkenti az A, B és C anyagok koncentrációját;\n",
    "<br>a második eljárás óránként 2 ezrelékponttal csökkenti a B és 1 ezrelékponttal csökkenti a C anyag koncentrációját, az A-jét azonban növeli eggyel;\n",
    "<br>a harmadik eljárás óránként 2 ezrelékponttal csökkenti az A anyag koncentrációját és nincs hatással a B és C-ére.\n",
    "<br>Az A, B és C anyagok elfogadható koncentrációja rendre 1, 3 és 2 ezrelék.\n",
    "\n",
    "a) Írjon fel egy LP feladatot, amely segítségével megállapítható, hogy minimális költséggel hogyan lehet elfogadható koncentrációra leszorítani a szennyvíz összetételét! (3 pont)\n",
    "\n",
    "b) Írja fel az LP modellt pulpban, és oldja is meg! Szöveges válaszban adja meg az optimális megoldást, és az optimális célfüggvény értéket! (2 pont)\n",
    "\n",
    "c) Mi az árnyékár definíciója? Adja meg az árnyékárak értékét, és értelmezze is az egyes árnyékárak jelentését a szennyvíztisztító feladata kapcsán! (2 pont)\n",
    "\n",
    "d) Egészítse ki az a) részben megadott modellt az alábbi feltételekkel (az új modell megoldását nem kell megadnia)! (2 pont)\n",
    "* Ha az első eljárás használatba kerül, akkor azt legalább 4 órán át kötelező használni.\n",
    "* Ha a második eljárás több, mint 2 órán át kerül használatra, akkor a harmadik eljárás legfeljebb 3 órán keresztül üzemelhet.\n",
    "* Ha a harmadik eljárást használjuk, akkor az elsőt nem lehet."
   ]
  },
  {
   "cell_type": "markdown",
   "id": "733a0680-86ae-4df1-9de8-e8119f4ef2f9",
   "metadata": {},
   "source": [
    "*Megoldás: a)*\n",
    "\n",
    "Legyen $x_1$, $x_2$ és $x_3$ változók az egyes eljárások óraszáma\n",
    "\n",
    "$$\n",
    "\\begin{array}{rrcl}\n",
    "\\min & 100x_1 + 120x_2\t+ 80 x_3 & & \\\\\n",
    "\\text{f.h.} & x_1 - x_2 + 2x_3 & \\geq & 8 \\\\\n",
    "& x_1 + 2x_2 & \\geq & 18 \\\\\n",
    "& x_1 + x_2 & \\geq & 16 \\\\\n",
    "& x_1, x_2, x_3 & \\geq & 0\n",
    "\\end{array}\n",
    "$$"
   ]
  },
  {
   "cell_type": "code",
   "execution_count": 5,
   "id": "8ac50ad0-121b-4319-8246-0aafae0fa2af",
   "metadata": {},
   "outputs": [
    {
     "name": "stdout",
     "output_type": "stream",
     "text": [
      "Optimális megoldást találtunk.\n",
      "Célfüggvény érték: z* =  1640.0\n",
      "Megoldás: x1* =  14.0 x2* =  2.0 x3* =  0.0\n"
     ]
    }
   ],
   "source": [
    "# b):\n",
    "from pulp import *\n",
    "\n",
    "model = LpProblem('szennyviz', LpMinimize)\n",
    "\n",
    "x1 = LpVariable('x1', lowBound=0 , cat = 'Continuous')\n",
    "x2 = LpVariable('x2', lowBound=0 , cat = 'Continuous')\n",
    "x3 = LpVariable('x3', lowBound=0 , cat = 'Continuous')\n",
    "\n",
    "model += 100*x1 + 120*x2 + 80*x3\n",
    "\n",
    "model += x1 - x2 + 2*x3 >= 8, 'A_csökkenés'\n",
    "model += x1 + 2*x2 >= 18, 'B_csökkenés'\n",
    "model += x1 + x2 >= 16, 'C_csökkenés'\n",
    "\n",
    "megoldas = model.solve()\n",
    "\n",
    "if LpStatus[megoldas] == 'Optimal':\n",
    "    print('Optimális megoldást találtunk.')\n",
    "    print(f'Célfüggvény érték: z* = ', value(model.objective))\n",
    "    print(f'Megoldás: x1* = ',value(x1), 'x2* = ', value(x2), 'x3* = ', value(x3))"
   ]
  },
  {
   "cell_type": "markdown",
   "id": "a602a85c-7907-43fb-9f84-3d8084fe4f64",
   "metadata": {},
   "source": [
    "*b)*\n",
    "14 órát használják az első, 2 órát a második és 0 órát a haradik eljárást. Az így adódó teljes költség 1 640 000."
   ]
  },
  {
   "cell_type": "code",
   "execution_count": 7,
   "id": "7f88e411-1d2f-4873-b544-044058c6d376",
   "metadata": {},
   "outputs": [
    {
     "name": "stdout",
     "output_type": "stream",
     "text": [
      "y_ A_csökkenés  =  0.0\n",
      "y_ B_csökkenés  =  20.0\n",
      "y_ C_csökkenés  =  80.0\n"
     ]
    }
   ],
   "source": [
    "# c)\n",
    "for name, c in model.constraints.items():\n",
    "    print('y_',name, ' = ', c.pi)"
   ]
  },
  {
   "cell_type": "markdown",
   "id": "93b2101f-6ddb-4310-9e10-c58222fb12ba",
   "metadata": {},
   "source": [
    "*c)*\n",
    "Ha egységnyivel szigorodnának a szennyvíz koncentráció előírások, azok teljesítése rendre 0, 20ezer és 80ezer Ft extra költséget jelentene a tisztító számára.\n",
    "\n",
    "*d)*\n",
    "* új $u \\in \\{0,1\\}$ bináris változó, új korlátok: $$ 4u \\leq x_1 \\leq M_1u \\quad \\text{(ahol }M_1\\text{ kellően nagy, pl }M_1 \\geq 18\\text{)} $$\n",
    "* új $v \\in \\{0,1\\}$ bináris változó, új korlátok: $$ x_2 \\leq 2 + M_2v, \\quad x_3 \\leq 3v \\quad \\text{(ahol }M_2\\text{ kellően nagy)} $$\n",
    "* új $w \\in \\{0,1\\}$ bináris változó, új korlátok: $$ x_3 \\leq M_3w, \\quad x_1 \\leq M_1(1-w)\\quad \\text{(ahol }M_3\\text{ kellően nagy)} $$"
   ]
  },
  {
   "cell_type": "markdown",
   "id": "5e277482-df40-4676-b4c9-1f9c485cee06",
   "metadata": {},
   "source": [
    "## 2. feladat\n",
    "Az alábbi táblázat egy zéró összegû mátrixjáték kifizetésmátrixa (a Sorjátékos szempontjából), ahol $c \\in \\mathbb{R}$ egy paraméter (tetszőleges valós szám lehet).\n",
    "\n",
    "$$\n",
    "\\begin{array}{l|llll}\n",
    "\\text{Sor / Oszlop} & \\text{O1} & \\text{O2} & \\text{O3} & \\text{O4} \\\\ \\hline\n",
    "\\text{S1} & \\phantom{-}7 & -4 & \\phantom{-}5 & \\phantom{-}2 \\\\\n",
    "\\text{S2} & -2 & \\phantom{-}6 & \\phantom{-}2 & \\phantom{-}c \\\\\n",
    "\\text{S3} & -5 & \\phantom{-}2 & \\phantom{-}1 & -1 \\\\\n",
    "\\end{array}\n",
    "$$\n",
    "\n",
    "a) Végezzük el a szigorúan dominált stratégiák iteratív kiszűrését! Mely $c$ értékekre találunk szigorúan dominált stratégiákat, és mely stratégiák által domináltak? (3 pont)\n",
    "\n",
    "b) Adjon meg egy lineáris programozási feladatot, mely segítségével kiszámítható a kevert Nash-egyensúlyi stratégiák, és a játék értéke $c=0$ esetén! (3 pont)\n",
    "\n",
    "c) Írja fel az LP modellt pulpban, és oldja is meg! Szöveges válaszban adja meg mindkét játékos kevert Nash-egyensúlyi stratégiáját, és a játék értékét! Kinek kedvez a játék? (3 pont)"
   ]
  },
  {
   "cell_type": "markdown",
   "id": "bdb99f9a-fd8c-45c7-83b4-32b59a6a5d68",
   "metadata": {},
   "source": [
    "*Megoldás: a)*\n",
    "<br>Az oszlopnál az O4 szigorúan dominálja az O3-t ha $c < 2$.\n",
    "<br>A sor számára az S2 dominálja az S3-at ha $c >-1$.\n",
    "<br>További dominancia egyik oldalon sincs.\n",
    "\n",
    "*b)*\n",
    "\n",
    "Jelölje $s_1$ és $s_2$ annak a valószínűségét, hogy a sor játékos az 1. illetve 2. stratégiáját játsza, illetve $v$ a játék értékét.\n",
    "<br> Például a sor feladata a dominancia szűrést követően:\n",
    "$$\n",
    "\\begin{array}{rrcc}\n",
    "\\max & v & & \\\\\n",
    "\\text{f.h.} & 7 s_1 - 2s_2 - v & \\geq & 0 \\\\\n",
    "& -4s_1 + 6s_3 - v & \\geq & 0 \\\\\n",
    "& 2 s_1 - v & \\geq & 0 \\\\\n",
    "& s_1 + s_2 & = & 1 \\\\\n",
    "& s_1, s_2 & \\geq & 0\n",
    "\\end{array}\n",
    "$$\n",
    "\n",
    "Sor és oszlop is elfogadható, domináltak benn maradhatnak"
   ]
  },
  {
   "cell_type": "code",
   "execution_count": 8,
   "id": "88bb336c-6517-4e3c-ba26-ff7448c3ca44",
   "metadata": {},
   "outputs": [
    {
     "name": "stdout",
     "output_type": "stream",
     "text": [
      "Optimális megoldást találtunk.\n",
      "A játék értéke: v* =  1.0\n",
      "Megoldás: s1* =  0.5 , s2* =  0.5\n",
      "y1 = 0.0\n",
      "y2 = 0.16666667\n",
      "y3 = 0.83333333\n",
      "y4 = -1.0\n"
     ]
    }
   ],
   "source": [
    "# c)\n",
    "from pulp import *\n",
    "\n",
    "model = LpProblem('jatek', LpMaximize)\n",
    "\n",
    "s1 = LpVariable('s1', lowBound=0 , cat = 'Continuous')\n",
    "s2 = LpVariable('s2', lowBound=0 , cat = 'Continuous')\n",
    "v = LpVariable('érték', cat = 'Continuous')\n",
    "\n",
    "model += v\n",
    "\n",
    "model += 7*s1 - 2*s2 - v >= 0\n",
    "model += -4*s1 + 6*s2 - v >= 0\n",
    "model += 2*s1 - v >= 0\n",
    "model += s1 + s2 == 1\n",
    "\n",
    "megoldas = model.solve()\n",
    "\n",
    "if LpStatus[megoldas] == 'Optimal':\n",
    "    print('Optimális megoldást találtunk.')\n",
    "    print('A játék értéke: v* = ', value(model.objective))\n",
    "    print(f'Megoldás: s1* = ',value(s1), ', s2* = ', value(s2))\n",
    "elif megoldas == -1:\n",
    "    print('Az LP-nek nincs megengedett megoldása.')\n",
    "elif LpStatus[megoldas] == 'Unbounded':\n",
    "    print('A célfüggvény nem korlátos.')\n",
    "else:\n",
    "    print('Az LP megoldása valamely problémába ütközött.')\n",
    "\n",
    "i=0\n",
    "for name, c in model.constraints.items():\n",
    "    print('y' + str(i+1) + ' =', -c.pi)\n",
    "    i += 1"
   ]
  },
  {
   "cell_type": "markdown",
   "id": "596db452-30f9-4b7c-b834-6a7c7dfe0518",
   "metadata": {},
   "source": [
    "*c)*\n",
    "<br> A Sor játékos Nash egyensúlyban 0.5 valószínűséggel játsza az első, 0.5 valószínűséggel a második (és 0 valószínűséggel a harmadik) stratégiáját.\n",
    "<br> Az Oszlop ezzel szemben 0 valószínűséggel az első és a harmadik, 1/6 valószínűséggel a második és 5/6 valószínűséggel a negyedik stratégiáját.\n",
    "<br> A játék értéke 1, azaz a Sor játékosnak kedvez."
   ]
  },
  {
   "cell_type": "markdown",
   "id": "bd66ff6e-94ec-46c4-87dc-80075faa2b7f",
   "metadata": {},
   "source": [
    "## 3. feladat\n",
    "Adott a következő lineáris programozási feladat:\n",
    "$$\n",
    "\\begin{array}{rrcc}\n",
    "\\max & x + 3y & & \\\\\n",
    "\\text{f.h.} & -x + y & \\leq & 2 \\\\\n",
    "& 2x + 3y & \\leq & 24 \\\\\n",
    "& x + 7y & \\leq & 42 \\\\\n",
    "& 2x + 6y & \\leq & 36 \\\\\n",
    "& x, y & \\geq & \\phantom{0}0\n",
    "\\end{array}\n",
    "$$\n",
    "\n",
    "a) Adjuk meg az LP egy optimális megoldását és a hozzá tartozó célfüggvényértéket! A megoldásban melyek az aktív illetve inaktív feltételek? (3p)\n",
    "\n",
    "b) Van alternatív optimális megoldás? Ha nincs, akkor mutassuk meg, hogy nincs; ha van, akkor adjunk meg egyet! Ha ezek után van még további optimális megoldás is, akkor adjunk meg még egyet! (3p)\n",
    "\n",
    "c) Tegyük fel, hogy van egy új nemnegatív változó $z$, melynek célfüggvény együtthatója $a \\in \\mathbb{R}$ ismeretlen paraméter. Az egyes korlátok bal oldalán $z$ együtthatója rendre 4, -2, 5 és 6. Az így kapott modellben $z$ redukált költsége -1. Mennyi az $a$ paraméter, valamint az optimális megoldásban $z$ értéke? (3p)"
   ]
  },
  {
   "cell_type": "code",
   "execution_count": 17,
   "id": "74b33023-1136-4f56-b48f-e64e0927e768",
   "metadata": {},
   "outputs": [
    {
     "name": "stdout",
     "output_type": "stream",
     "text": [
      "Optimális megoldást találtunk.\n",
      "Optimális célfüggvényérték: 18.0\n",
      "Megoldás:\n",
      "x* = 3.0\n",
      "y* = 5.0\n",
      "s_korlat1 = -0.0\n",
      "s_korlat2 = 3.0\n",
      "s_korlat3 = 4.0\n",
      "s_korlat4 = -0.0\n"
     ]
    }
   ],
   "source": [
    "# Megoldás: a)\n",
    "from pulp import *\n",
    "\n",
    "model = LpProblem('3_fel', LpMaximize)\n",
    "\n",
    "x = LpVariable('x', lowBound=0 , cat = 'Continuous')\n",
    "y = LpVariable('y', lowBound=0 , cat = 'Continuous')\n",
    "\n",
    "model += x + 3*y\n",
    "\n",
    "model += -x + y <= 2, 'korlat1'\n",
    "model += 2*x + 3*y <= 24, 'korlat2'\n",
    "model += x + 7*y <= 42, 'korlat3'\n",
    "model += 2*x + 6*y <= 36, 'korlat4'\n",
    "\n",
    "megoldas = model.solve()\n",
    "\n",
    "if LpStatus[megoldas] == 'Optimal':\n",
    "    print('Optimális megoldást találtunk.')\n",
    "    print('Optimális célfüggvényérték:', value(model.objective))\n",
    "    print('Megoldás:')\n",
    "    for v in model.variables():\n",
    "        print(str(v.name) + '* =', value(v))\n",
    "elif megoldas == -1:\n",
    "    print('Az LP-nek nincs megengedett megoldása.')\n",
    "elif LpStatus[megoldas] == 'Unbounded':\n",
    "    print('A célfüggvény nem korlátos.')\n",
    "else:\n",
    "    print('Az LP megoldása valamely problémába ütközött.')\n",
    "\n",
    "for name, c in model.constraints.items():\n",
    "    print('s_' + str(c.name) + ' =', c.slack)"
   ]
  },
  {
   "cell_type": "markdown",
   "id": "f1b5dc59-3b8a-47e8-b941-46b41d8d30ad",
   "metadata": {},
   "source": [
    "*Megoldás: a)*\n",
    "Az optimális megoldásban $x^*=3$, $y^*=5$ és az optimális célfüggvényérték 18. Aktív feltétel az első és negyedik korlát, inaktív feltételek a második és harmadik korlát."
   ]
  },
  {
   "cell_type": "code",
   "execution_count": 15,
   "id": "806ae1ca-8e49-47c7-bcb8-393697d4eb1d",
   "metadata": {},
   "outputs": [
    {
     "name": "stdout",
     "output_type": "stream",
     "text": [
      "Optimális megoldást találtunk.\n",
      "Optimális célfüggvényérték: 6.0\n",
      "Megoldás:\n",
      "x* = 6.0\n",
      "y* = 4.0\n"
     ]
    }
   ],
   "source": [
    "# b)\n",
    "from pulp import *\n",
    "\n",
    "model = LpProblem('3_fel', LpMaximize)\n",
    "\n",
    "x = LpVariable('x', lowBound=0 , cat = 'Continuous')\n",
    "y = LpVariable('y', lowBound=0 , cat = 'Continuous')\n",
    "\n",
    "model += x\n",
    "\n",
    "model += x + 3*y == 18, 'optimum'\n",
    "\n",
    "model += -x + y <= 2, 'korlat1'\n",
    "model += 2*x + 3*y <= 24, 'korlat2'\n",
    "model += x + 7*y <= 42, 'korlat3'\n",
    "model += 2*x + 6*y <= 36, 'korlat4'\n",
    "\n",
    "megoldas = model.solve()\n",
    "\n",
    "if LpStatus[megoldas] == 'Optimal':\n",
    "    print('Optimális megoldást találtunk.')\n",
    "    print('Optimális célfüggvényérték:', value(model.objective))\n",
    "    print('Megoldás:')\n",
    "    for v in model.variables():\n",
    "        print(str(v.name) + '* =', value(v))\n",
    "elif megoldas == -1:\n",
    "    print('Az LP-nek nincs megengedett megoldása.')\n",
    "elif LpStatus[megoldas] == 'Unbounded':\n",
    "    print('A célfüggvény nem korlátos.')\n",
    "else:\n",
    "    print('Az LP megoldása valamely problémába ütközött.')"
   ]
  },
  {
   "cell_type": "code",
   "execution_count": 16,
   "id": "b75f5e86-86ee-4bda-8a64-b0946c11fecd",
   "metadata": {},
   "outputs": [
    {
     "name": "stdout",
     "output_type": "stream",
     "text": [
      "Optimális megoldást találtunk.\n",
      "Optimális célfüggvényérték: 3.0\n",
      "Megoldás:\n",
      "x* = 3.0\n",
      "y* = 5.0\n"
     ]
    }
   ],
   "source": [
    "# b)\n",
    "from pulp import *\n",
    "\n",
    "model = LpProblem('3_fel', LpMinimize)\n",
    "\n",
    "x = LpVariable('x', lowBound=0 , cat = 'Continuous')\n",
    "y = LpVariable('y', lowBound=0 , cat = 'Continuous')\n",
    "\n",
    "model += x\n",
    "\n",
    "model += x + 3*y == 18, 'optimum'\n",
    "\n",
    "model += -x + y <= 2, 'korlat1'\n",
    "model += 2*x + 3*y <= 24, 'korlat2'\n",
    "model += x + 7*y <= 42, 'korlat3'\n",
    "model += 2*x + 6*y <= 36, 'korlat4'\n",
    "\n",
    "megoldas = model.solve()\n",
    "\n",
    "if LpStatus[megoldas] == 'Optimal':\n",
    "    print('Optimális megoldást találtunk.')\n",
    "    print('Optimális célfüggvényérték:', value(model.objective))\n",
    "    print('Megoldás:')\n",
    "    for v in model.variables():\n",
    "        print(str(v.name) + '* =', value(v))\n",
    "elif megoldas == -1:\n",
    "    print('Az LP-nek nincs megengedett megoldása.')\n",
    "elif LpStatus[megoldas] == 'Unbounded':\n",
    "    print('A célfüggvény nem korlátos.')\n",
    "else:\n",
    "    print('Az LP megoldása valamely problémába ütközött.')"
   ]
  },
  {
   "cell_type": "markdown",
   "id": "a22c481c-c819-42d9-9390-813166bd266b",
   "metadata": {},
   "source": [
    "*b)*\n",
    "Találtunk alternatív optimális megoldást, melyben $x^*=6$ és $y^*=4$. Ekkor a (3;5) és (6;4) közötti szakaszon minden pont optimális megoldás, azaz például a felező pont is: (4.5;4.5)."
   ]
  },
  {
   "cell_type": "code",
   "execution_count": 18,
   "id": "cc5d0eab-2e5f-4b6e-a87c-bf2a696ec182",
   "metadata": {},
   "outputs": [
    {
     "name": "stdout",
     "output_type": "stream",
     "text": [
      "Optimális megoldást találtunk.\n",
      "Optimális célfüggvényérték: 18.0\n",
      "Megoldás:\n",
      "x* = 3.0\n",
      "y* = 5.0\n",
      "y_korlat1 = -0.0\n",
      "y_korlat2 = -0.0\n",
      "y_korlat3 = -0.0\n",
      "y_korlat4 = 0.5\n"
     ]
    }
   ],
   "source": [
    "# Megoldás: c)\n",
    "from pulp import *\n",
    "\n",
    "model = LpProblem('3_fel', LpMaximize)\n",
    "\n",
    "x = LpVariable('x', lowBound=0 , cat = 'Continuous')\n",
    "y = LpVariable('y', lowBound=0 , cat = 'Continuous')\n",
    "\n",
    "model += x + 3*y\n",
    "\n",
    "model += -x + y <= 2, 'korlat1'\n",
    "model += 2*x + 3*y <= 24, 'korlat2'\n",
    "model += x + 7*y <= 42, 'korlat3'\n",
    "model += 2*x + 6*y <= 36, 'korlat4'\n",
    "\n",
    "megoldas = model.solve()\n",
    "\n",
    "if LpStatus[megoldas] == 'Optimal':\n",
    "    print('Optimális megoldást találtunk.')\n",
    "    print('Optimális célfüggvényérték:', value(model.objective))\n",
    "    print('Megoldás:')\n",
    "    for v in model.variables():\n",
    "        print(str(v.name) + '* =', value(v))\n",
    "elif megoldas == -1:\n",
    "    print('Az LP-nek nincs megengedett megoldása.')\n",
    "elif LpStatus[megoldas] == 'Unbounded':\n",
    "    print('A célfüggvény nem korlátos.')\n",
    "else:\n",
    "    print('Az LP megoldása valamely problémába ütközött.')\n",
    "    \n",
    "for name, c in model.constraints.items():\n",
    "    print('y_' + str(c.name) + ' =', c.pi)"
   ]
  },
  {
   "cell_type": "markdown",
   "id": "39848098-1cc8-400e-8050-2fd0a119ca34",
   "metadata": {},
   "source": [
    "*c)*\n",
    "$z$ redukált költsége alapján az optimális megoldásban felvett értéke mindenképp 0. Az eredeti feladat árnyékárai alapján ahhoz, hogy ez változzon, legalább $4*0 - 2*0 + 5*0 + 6*0.5 = 3$ célfüggvény értékre van szükség, azaz $a=3-1=2$."
   ]
  }
 ],
 "metadata": {
  "kernelspec": {
   "display_name": "Python 3 (ipykernel)",
   "language": "python",
   "name": "python3"
  },
  "language_info": {
   "codemirror_mode": {
    "name": "ipython",
    "version": 3
   },
   "file_extension": ".py",
   "mimetype": "text/x-python",
   "name": "python",
   "nbconvert_exporter": "python",
   "pygments_lexer": "ipython3",
   "version": "3.12.7"
  }
 },
 "nbformat": 4,
 "nbformat_minor": 5
}
