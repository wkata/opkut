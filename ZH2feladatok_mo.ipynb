{
 "cells": [
  {
   "cell_type": "markdown",
   "id": "a7a82c7c",
   "metadata": {},
   "source": [
    "# Második kisZH - gyakorló feladatok\n",
    "\n",
    "Az alábbi feladatok a második kisZH-ra való gyakorlás céljából készültek. A kisZH-n ilyen jellegű kérdésekre lehet számítani, az alább érintett, illetve az első kisZH utáni, a 8. gyakorlat bezárultáig tartó gyakorlatok és előadások témaköreiből.\n",
    "\n",
    "Törekedjenek azonban arra, hogy az értékelendő válaszukat, és az ahhoz vezető gondolatmenetet egyértelműen jelöljék, csakúgy mint az erre felhasznált kódokat. Ha valamiről nem óhajtják, hogy értékeljük (vázlatok), azt kérem külön emeljék ki."
   ]
  },
  {
   "cell_type": "markdown",
   "id": "e9381f37",
   "metadata": {},
   "source": [
    "## 1. feladat\n",
    "Az alábbi kód lefuttatásával kap egy $G$ irányított, élsúlyozott gráfot."
   ]
  },
  {
   "cell_type": "code",
   "execution_count": 1,
   "id": "2ec16840",
   "metadata": {},
   "outputs": [
    {
     "data": {
      "image/png": "[encoded data removed]",
      "text/plain": [
       "<Figure size 432x288 with 1 Axes>"
      ]
     },
     "metadata": {},
     "output_type": "display_data"
    }
   ],
   "source": [
    "exec(open(\"SampleGraph.py\").read())\n",
    "G = SampleGraph(\"shp\")"
   ]
  },
  {
   "cell_type": "markdown",
   "id": "7bfec12d",
   "metadata": {},
   "source": [
    "Az élsúlyok jelöljék a két csúcs közötti egyirányú kapcsolat hosszát."
   ]
  },
  {
   "cell_type": "markdown",
   "id": "f8a2def5",
   "metadata": {},
   "source": [
    "a) A legrövidebb $s \\to t$ út által nem használt élek közül a leghosszabb élen mennyit kéne rövidíteni, hogy a legrövidebb út része legyen?"
   ]
  },
  {
   "cell_type": "markdown",
   "id": "f127ca85",
   "metadata": {},
   "source": [
    "b) Ha a hálózat egy projektháló lenne, akkor merre haladna a kritikus út?"
   ]
  },
  {
   "cell_type": "markdown",
   "id": "629685b8",
   "metadata": {},
   "source": [
    "c) Mi a legrövidebb s-t séta a d csúcson keresztül?\n",
    "<br>*Megjegyzés:* a séta egy olyan 'út' (avagy váltakozó csúcs-él sorozat), melyben egy csúcs akár többször is előfordulhat."
   ]
  },
  {
   "cell_type": "markdown",
   "id": "32948d17",
   "metadata": {},
   "source": [
    "## Megoldás:"
   ]
  },
  {
   "cell_type": "code",
   "execution_count": 2,
   "id": "229fe03b",
   "metadata": {},
   "outputs": [
    {
     "name": "stdout",
     "output_type": "stream",
     "text": [
      "A legrövidebb út: ['s', 'b', 'e', 'i', 't']\n",
      "A legrövidebb út hossza:  56\n"
     ]
    }
   ],
   "source": [
    "# a) megoldás: a legrövidebb út\n",
    "import networkx as nx\n",
    "hossz, rovid_ut = nx.single_source_dijkstra(G, 's', 't')\n",
    "print('A legrövidebb út:', rovid_ut)\n",
    "print('A legrövidebb út hossza: ', hossz)"
   ]
  },
  {
   "cell_type": "code",
   "execution_count": 3,
   "id": "fd71436c",
   "metadata": {},
   "outputs": [
    {
     "name": "stdout",
     "output_type": "stream",
     "text": [
      "Optimal\n",
      "b és d távolsága legfeljebb, hogy része legyen a legrövidebb útnak: 5.0\n"
     ]
    }
   ],
   "source": [
    "# b-d él a leghosszabb 25-tel (nem része a legrövidebb útnak)\n",
    "from pulp import *\n",
    "\n",
    "rovidut_LP = pulp.LpProblem('Legrövidebb_út', LpMaximize)\n",
    "\n",
    "csucsok = list(G.nodes())\n",
    "\n",
    "x = LpVariable.dicts('x',csucsok,lowBound=0, cat=\"Continuous\")\n",
    "\n",
    "rovidut_LP += x['b'] - x['d']\n",
    "\n",
    "elek = list(G.edges())\n",
    "\n",
    "for i in range(len(elek)):\n",
    "    rovidut_LP += x[elek[i][1]] - x[elek[i][0]] <= G[elek[i][0]][elek[i][1]]['weight']\n",
    "\n",
    "# a legrövidebb út mentén rögzítjük a távolságokat:\n",
    "rovidut_LP += x['b'] - x['s'] == G['s']['b']['weight']\n",
    "rovidut_LP += x['e'] - x['b'] == G['b']['e']['weight']\n",
    "rovidut_LP += x['i'] - x['e'] == G['e']['i']['weight']\n",
    "rovidut_LP += x['t'] - x['i'] == G['i']['t']['weight']\n",
    "\n",
    "rovidut_LP += x['s'] == 0\n",
    "\n",
    "megoldas = rovidut_LP.solve()\n",
    "\n",
    "print(LpStatus[megoldas])\n",
    "print('b és d távolsága legfeljebb, hogy része legyen a legrövidebb útnak:', -value(rovidut_LP.objective))"
   ]
  },
  {
   "cell_type": "code",
   "execution_count": 4,
   "id": "337b9ff9",
   "metadata": {},
   "outputs": [
    {
     "data": {
      "text/plain": [
       "['s', 'b', 'd', 'g', 't']"
      ]
     },
     "execution_count": 4,
     "metadata": {},
     "output_type": "execute_result"
    }
   ],
   "source": [
    "# b) megoldás:\n",
    "nx.dag_longest_path(G, weight=\"weight\")"
   ]
  },
  {
   "cell_type": "markdown",
   "id": "21a1ccb4",
   "metadata": {},
   "source": [
    "A kritikus út az $s-b-d-g-t$ útvonalon halad."
   ]
  },
  {
   "cell_type": "code",
   "execution_count": 5,
   "id": "5a0486d1",
   "metadata": {},
   "outputs": [
    {
     "name": "stdout",
     "output_type": "stream",
     "text": [
      "A legrövidebb út: ['s', 'a', 'd']\n",
      "A legrövidebb út hossza:  35\n"
     ]
    }
   ],
   "source": [
    "# c) megoldás: összeillesztünk egy s-d és egy d-t legrövidebb utat.\n",
    "hossz, rovid_ut = nx.single_source_dijkstra(G, 's', 'd')\n",
    "print('A legrövidebb út:', rovid_ut)\n",
    "print('A legrövidebb út hossza: ', hossz)"
   ]
  },
  {
   "cell_type": "code",
   "execution_count": 6,
   "id": "ee9c92a0",
   "metadata": {},
   "outputs": [
    {
     "name": "stdout",
     "output_type": "stream",
     "text": [
      "A legrövidebb út: ['d', 'g', 't']\n",
      "A legrövidebb út hossza:  35\n"
     ]
    }
   ],
   "source": [
    "hossz, rovid_ut = nx.single_source_dijkstra(G, 'd', 't')\n",
    "print('A legrövidebb út:', rovid_ut)\n",
    "print('A legrövidebb út hossza: ', hossz)"
   ]
  },
  {
   "cell_type": "markdown",
   "id": "06de7a8e",
   "metadata": {},
   "source": [
    "Tehát egy legrövidebb $s-t$ séta (jelen esetben egy út) a $d$ csúcson keresztül az $s-a-d-g-t$, a teljes hossza 70."
   ]
  },
  {
   "cell_type": "markdown",
   "id": "799eca90",
   "metadata": {},
   "source": [
    "## 2. feladat\n",
    "Az alábbi kód lefuttatásával kap egy $H$ irányított, élsúlyozott gráfot."
   ]
  },
  {
   "cell_type": "code",
   "execution_count": 7,
   "id": "b78e9d04",
   "metadata": {},
   "outputs": [
    {
     "data": {
      "image/png": "[encoded data removed]",
      "text/plain": [
       "<Figure size 432x288 with 1 Axes>"
      ]
     },
     "metadata": {},
     "output_type": "display_data"
    }
   ],
   "source": [
    "H = SampleGraph(\"maxflow\")"
   ]
  },
  {
   "cell_type": "markdown",
   "id": "46bc689c",
   "metadata": {},
   "source": [
    "a) Adjon meg egy maximális $s$-ből $t$-be menő folyamot a $H$ gráfban: adja meg a maximális folyam össz. értékét, illetve a folyamértékeket az egyes éleken! Határozzon meg hozzá egy minimális vágást. Melyek a vágásélek?"
   ]
  },
  {
   "cell_type": "markdown",
   "id": "4f6c7f03",
   "metadata": {},
   "source": [
    "b) Írja fel a feladat LP modelljét (nem pulp implementációt, hanem a lineáris programozás feladatot)!"
   ]
  },
  {
   "cell_type": "markdown",
   "id": "add61f87",
   "metadata": {},
   "source": [
    "c) Hogyan változna a b)-beli LP feladat, ha\n",
    "<br>i) amennyiben megy folyam a $(c,b)$ élen, akkor nem mehet az $(e,h)$ élen,\n",
    "<br>ii) illetve az $(a,d), (f,e), (h,i)$ élek közül legalább két darabon legalább 4-es folyamnak kell mennie.\n",
    "\n",
    "Adja meg a két esetben külön-külön, hogy milyen új változók vagy korlátok segítségével lehet az előírást megvalósítani (illetve jelölje azt is, ha az LP b) pontban megadott elemei változnának)!"
   ]
  },
  {
   "cell_type": "markdown",
   "id": "cbfc244b",
   "metadata": {},
   "source": [
    "## Megoldás:"
   ]
  },
  {
   "cell_type": "code",
   "execution_count": 8,
   "id": "1e2f646f",
   "metadata": {},
   "outputs": [
    {
     "name": "stdout",
     "output_type": "stream",
     "text": [
      "x('s', 'a') = 22\n",
      "x('s', 'b') = 8\n",
      "x('s', 'c') = 5\n",
      "x('a', 'd') = 22\n",
      "x('b', 'e') = 8\n",
      "x('b', 'a') = 0\n",
      "x('c', 'f') = 5\n",
      "x('c', 'b') = 0\n",
      "x('d', 'g') = 11\n",
      "x('d', 'h') = 11\n",
      "x('e', 'h') = 8\n",
      "x('e', 'd') = 0\n",
      "x('f', 'i') = 5\n",
      "x('f', 'e') = 0\n",
      "x('f', 'h') = 0\n",
      "x('g', 't') = 11\n",
      "x('h', 't') = 9\n",
      "x('h', 'g') = 0\n",
      "x('h', 'i') = 10\n",
      "x('i', 't') = 15\n",
      "Maximális folyam össz. értéke: 35\n"
     ]
    }
   ],
   "source": [
    "# a) megoldás:\n",
    "flow_value, flow_dict = nx.maximum_flow(H, 's', 't', capacity=\"weight\")\n",
    "elek = list(H.edges())\n",
    "for i in range(len(elek)):\n",
    "    print(\"x\"+str(elek[i])+\" =\", flow_dict[elek[i][0]][elek[i][1]])\n",
    "print(\"Maximális folyam össz. értéke:\", flow_value)"
   ]
  },
  {
   "cell_type": "code",
   "execution_count": 9,
   "id": "da2ac76a",
   "metadata": {},
   "outputs": [
    {
     "name": "stdout",
     "output_type": "stream",
     "text": [
      "W = {'a', 'b', 'e', 'i', 'h', 's', 'd', 'c', 'f', 'g'}\n",
      "W'= {'t'}\n",
      "Minimális vágás értéke: 35\n"
     ]
    }
   ],
   "source": [
    "cut_value, partition = nx.minimum_cut(H, 's', 't', capacity=\"weight\")\n",
    "reachable, non_reachable = partition\n",
    "print(\"W =\", reachable)\n",
    "print(\"W'=\", non_reachable)\n",
    "print(\"Minimális vágás értéke:\", cut_value)"
   ]
  },
  {
   "cell_type": "markdown",
   "id": "2c69ae31",
   "metadata": {},
   "source": [
    "Tehát a vágásélek a $(g,t), (h,t), (i,t)$."
   ]
  },
  {
   "cell_type": "markdown",
   "id": "46c44f88",
   "metadata": {},
   "source": [
    "*b) megoldás:*\n",
    "Jelölje $x_{ij}$ változó az $i$ csúcsból a $j$ csúcsba menő folyam értékét.\n",
    "$$\n",
    "\\begin{array}{rccc}\n",
    "\\max & x_{sa} + x_{sb} + x_{sc} & & \\\\\n",
    "\\text{f.h.} & x_{sa}  & \\leq & 25 \\\\\n",
    "& x_{sb}  & \\leq & 9 \\\\\n",
    "& x_{sc}  & \\leq & 10 \\\\\n",
    "& x_{ad}  & \\leq & 22 \\\\\n",
    "& x_{ba}  & \\leq & 7 \\\\\n",
    "& x_{be}  & \\leq & 13 \\\\\n",
    "& x_{cb}  & \\leq & 15 \\\\\n",
    "& x_{cf}  & \\leq & 14 \\\\\n",
    "& x_{dg}  & \\leq & 27 \\\\\n",
    "& x_{dh}  & \\leq & 11 \\\\\n",
    "& x_{ed}  & \\leq & 14 \\\\\n",
    "& x_{eh}  & \\leq & 12 \\\\\n",
    "& x_{fe}  & \\leq & 11 \\\\\n",
    "& x_{fh}  & \\leq & 15 \\\\\n",
    "& x_{fi}  & \\leq & 12 \\\\\n",
    "& x_{gt}  & \\leq & 11 \\\\\n",
    "& x_{hg}  & \\leq & 10 \\\\\n",
    "& x_{hi}  & \\leq & 10 \\\\\n",
    "& x_{ht}  & \\leq & 9 \\\\\n",
    "& x_{it}  & \\leq & 15 \\\\\n",
    "& x_{sa} + x_{ba} - x_{ad} & = & 0 \\\\\n",
    "& x_{sb} - x_{ba} - x_{be} & = & 0 \\\\\n",
    "& x_{sc} - x_{cb} - x_{cf} & = & 0 \\\\\n",
    "& x_{ad} + x_{ed} - x_{dg} - x_{dh} & = & 0 \\\\\n",
    "& x_{be} + x_{fe} - x_{ed} - x_{eh} & = & 0 \\\\\n",
    "& x_{cf} - x_{fe} - x_{fh} - x_{fi} & = & 0 \\\\\n",
    "& x_{dg} + x_{hg} - x_{gt} & = & 0 \\\\\n",
    "& x_{dh} + x_{eh} + x_{fh} - x_{hg} - x_{hi} - x_{ht} & = & 0 \\\\\n",
    "& x_{fi} + x_{hi} - x_{it} & = & 0 \\\\\n",
    "& x_{sa}, x_{sb}, x_{sc}, x_{ad}, x_{be}, x_{ba}, x_{cf}, x_{cb}, x_{dg}, x_{dh} & \\geq & 0 \\\\\n",
    "& x_{eh}, x_{ed}, x_{fi}, x_{fe}, x_{fh}, x_{gt}, x_{hg}, x_{hi}, x_{ht}, x_{it} & \\geq & 0\n",
    "\\end{array}\n",
    "$$"
   ]
  },
  {
   "cell_type": "markdown",
   "id": "87b29a85",
   "metadata": {},
   "source": [
    "*c) megoldás:*\n",
    "<br>i) Legyen $u$ bináris változó, melyre $u=1$ ha $x_{cb} > 0$. Ekkor a b)-beli modellhez adjuk hozzá a következő két korlátot:\n",
    "\n",
    "$$\n",
    "\\begin{array}{ccc}\n",
    "x_{cb} & \\leq & M_1u \\\\\n",
    "x_{eh} & \\leq & M_2(1-u)\n",
    "\\end{array}\n",
    "$$\n",
    "\n",
    "ahol $M_1 \\geq 15$ (legalább a $(c,b)$ él kapacitása) és $M_2 \\geq 12$ (legalább az $(e,h)$ él kapacitása).\n",
    "\n",
    "ii) Legyen $y_1, y_2$ és $y_3$ bináris változók, melyekre $y_1 = 1$, ha $x_{ad} \\geq 4$; $y_2 = 1$, ha $x_{fe} \\geq 4$; $y_3 = 1$, ha $x_{hi} \\geq 4$. Ekkor a b)-beli modellhez adjuk hozzá a következő négy korlátot:\n",
    "\n",
    "$$\n",
    "\\begin{array}{ccc}\n",
    "x_{ad} & \\geq & 4y_1 \\\\\n",
    "x_{fe} & \\geq & 4y_2 \\\\\n",
    "x_{hi} & \\geq & 4y_3 \\\\\n",
    "y_1 + y_2 + y_3 & \\geq & 2\n",
    "\\end{array}\n",
    "$$"
   ]
  }
 ],
 "metadata": {
  "kernelspec": {
   "display_name": "Python 3 (ipykernel)",
   "language": "python",
   "name": "python3"
  },
  "language_info": {
   "codemirror_mode": {
    "name": "ipython",
    "version": 3
   },
   "file_extension": ".py",
   "mimetype": "text/x-python",
   "name": "python",
   "nbconvert_exporter": "python",
   "pygments_lexer": "ipython3",
   "version": "3.12.7"
  }
 },
 "nbformat": 4,
 "nbformat_minor": 5
}
